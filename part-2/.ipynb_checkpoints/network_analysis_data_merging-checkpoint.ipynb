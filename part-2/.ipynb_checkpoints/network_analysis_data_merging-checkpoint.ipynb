{
 "cells": [
  {
   "cell_type": "markdown",
   "metadata": {},
   "source": [
    "# Capstone Project \n",
    "## Part 2 - Identifying 'systemised' listings"
   ]
  },
  {
   "cell_type": "markdown",
   "metadata": {},
   "source": [
    "## Network Analysis - Data Merging"
   ]
  },
  {
   "cell_type": "code",
   "execution_count": 1,
   "metadata": {
    "ExecuteTime": {
     "end_time": "2021-02-20T13:32:35.798855Z",
     "start_time": "2021-02-20T13:32:34.863200Z"
    }
   },
   "outputs": [],
   "source": [
    "import pandas as pd\n",
    "import numpy as np\n",
    "import psycopg2\n",
    "import seaborn as sns\n",
    "import matplotlib.pyplot as plt\n",
    "from scipy import stats\n",
    "import networkx as nx\n",
    "\n",
    "%config InlineBackend.figure_format = 'retina'\n",
    "%matplotlib inline\n",
    "\n",
    "sns.set_theme(context='notebook', style='darkgrid', palette='deep', font_scale=1.5)"
   ]
  },
  {
   "cell_type": "markdown",
   "metadata": {},
   "source": [
    "### Load data"
   ]
  },
  {
   "cell_type": "code",
   "execution_count": 2,
   "metadata": {
    "ExecuteTime": {
     "end_time": "2021-02-20T13:32:39.365404Z",
     "start_time": "2021-02-20T13:32:39.316824Z"
    }
   },
   "outputs": [],
   "source": [
    "# connect to database\n",
    "db_user = 'postgres'\n",
    "db_password = ''\n",
    "db_host = 'localhost'\n",
    "db_port = 5432\n",
    "database = 'airbnb'\n",
    "\n",
    "conn_str = f'postgresql://{db_user}:{db_password}@{db_host}:{db_port}/{database}'\n",
    "conn = psycopg2.connect(conn_str)"
   ]
  },
  {
   "cell_type": "markdown",
   "metadata": {},
   "source": [
    "### Oct-19 and Oct-18 data"
   ]
  },
  {
   "cell_type": "markdown",
   "metadata": {},
   "source": [
    "#### Reviews data"
   ]
  },
  {
   "cell_type": "code",
   "execution_count": 38,
   "metadata": {
    "ExecuteTime": {
     "end_time": "2021-02-19T14:26:07.001492Z",
     "start_time": "2021-02-19T14:25:47.211048Z"
    }
   },
   "outputs": [
    {
     "data": {
      "text/plain": [
       "(1453649, 6)"
      ]
     },
     "execution_count": 38,
     "metadata": {},
     "output_type": "execute_result"
    }
   ],
   "source": [
    "# load data for Oct 19 reviews from database\n",
    "df_reviews_19 = pd.read_sql('SELECT * FROM oct19_reviews', conn)\n",
    "df_reviews_19.shape"
   ]
  },
  {
   "cell_type": "code",
   "execution_count": 39,
   "metadata": {
    "ExecuteTime": {
     "end_time": "2021-02-19T14:26:35.278672Z",
     "start_time": "2021-02-19T14:26:12.391809Z"
    }
   },
   "outputs": [
    {
     "data": {
      "text/plain": [
       "(1102255, 6)"
      ]
     },
     "execution_count": 39,
     "metadata": {},
     "output_type": "execute_result"
    }
   ],
   "source": [
    "# load data for Oct 18 reviews from database\n",
    "df_reviews_18 = pd.read_sql('SELECT * FROM oct18_reviews', conn)\n",
    "df_reviews_18.shape"
   ]
  },
  {
   "cell_type": "code",
   "execution_count": 41,
   "metadata": {
    "ExecuteTime": {
     "end_time": "2021-02-19T14:27:13.018061Z",
     "start_time": "2021-02-19T14:27:01.329021Z"
    }
   },
   "outputs": [
    {
     "data": {
      "text/plain": [
       "(1752751, 6)"
      ]
     },
     "execution_count": 41,
     "metadata": {},
     "output_type": "execute_result"
    }
   ],
   "source": [
    "df_reviews = pd.concat([df_reviews_19, df_reviews_18], axis=0)\n",
    "df_reviews.drop_duplicates(subset=['id'], inplace=True)\n",
    "df_reviews.shape"
   ]
  },
  {
   "cell_type": "code",
   "execution_count": 42,
   "metadata": {
    "ExecuteTime": {
     "end_time": "2021-02-19T14:27:39.988943Z",
     "start_time": "2021-02-19T14:27:35.517474Z"
    }
   },
   "outputs": [
    {
     "data": {
      "text/plain": [
       "(1751022, 6)"
      ]
     },
     "execution_count": 42,
     "metadata": {},
     "output_type": "execute_result"
    }
   ],
   "source": [
    "# drop null comments\n",
    "df_reviews.dropna(inplace=True)\n",
    "df_reviews.shape"
   ]
  },
  {
   "cell_type": "code",
   "execution_count": 43,
   "metadata": {
    "ExecuteTime": {
     "end_time": "2021-02-19T14:27:49.937398Z",
     "start_time": "2021-02-19T14:27:43.949066Z"
    }
   },
   "outputs": [
    {
     "data": {
      "text/plain": [
       "(1706982, 6)"
      ]
     },
     "execution_count": 43,
     "metadata": {},
     "output_type": "execute_result"
    }
   ],
   "source": [
    "# drop reviews containing 'This is an automated posting'\n",
    "automated = df_reviews[df_reviews.comments.str.contains('This is an automated posting')].index\n",
    "df_reviews.drop(index=automated, inplace=True)\n",
    "df_reviews.shape"
   ]
  },
  {
   "cell_type": "markdown",
   "metadata": {},
   "source": [
    "#### Listings data"
   ]
  },
  {
   "cell_type": "code",
   "execution_count": 44,
   "metadata": {
    "ExecuteTime": {
     "end_time": "2021-02-19T14:28:31.934168Z",
     "start_time": "2021-02-19T14:28:04.793601Z"
    }
   },
   "outputs": [
    {
     "data": {
      "text/plain": [
       "(83887, 106)"
      ]
     },
     "execution_count": 44,
     "metadata": {},
     "output_type": "execute_result"
    }
   ],
   "source": [
    "# load data for Oct 19 listings from database\n",
    "df_listings_19 = pd.read_sql('SELECT * FROM oct19_listings', conn)\n",
    "df_listings_19.shape"
   ]
  },
  {
   "cell_type": "code",
   "execution_count": 45,
   "metadata": {
    "ExecuteTime": {
     "end_time": "2021-02-19T14:28:57.464022Z",
     "start_time": "2021-02-19T14:28:40.618213Z"
    }
   },
   "outputs": [
    {
     "data": {
      "text/plain": [
       "(74153, 96)"
      ]
     },
     "execution_count": 45,
     "metadata": {},
     "output_type": "execute_result"
    }
   ],
   "source": [
    "# load data for Oct 18 listings from database\n",
    "df_listings_18 = pd.read_sql('SELECT * FROM oct18_listings', conn)\n",
    "df_listings_18.shape"
   ]
  },
  {
   "cell_type": "code",
   "execution_count": 46,
   "metadata": {
    "ExecuteTime": {
     "end_time": "2021-02-19T14:29:17.906577Z",
     "start_time": "2021-02-19T14:29:16.318957Z"
    }
   },
   "outputs": [
    {
     "data": {
      "text/plain": [
       "(109217, 3)"
      ]
     },
     "execution_count": 46,
     "metadata": {},
     "output_type": "execute_result"
    }
   ],
   "source": [
    "cols = ['id', 'host_id', 'host_name']\n",
    "df_listings = pd.concat([df_listings_19[cols], df_listings_18[cols]], axis=0)\n",
    "df_listings.drop_duplicates(subset=['id', 'host_id'], inplace=True)\n",
    "df_listings.shape"
   ]
  },
  {
   "cell_type": "markdown",
   "metadata": {},
   "source": [
    "### Merge data"
   ]
  },
  {
   "cell_type": "code",
   "execution_count": 47,
   "metadata": {
    "ExecuteTime": {
     "end_time": "2021-02-19T14:29:53.565202Z",
     "start_time": "2021-02-19T14:29:30.034609Z"
    }
   },
   "outputs": [],
   "source": [
    "# create subsets with relevant columns for merging\n",
    "df1 = df_reviews[['listing_id', 'reviewer_id', 'reviewer_name', 'id', 'date', 'comments']].copy()\n",
    "df2 = df_listings[['id', 'host_id', 'host_name']].copy()"
   ]
  },
  {
   "cell_type": "code",
   "execution_count": 48,
   "metadata": {
    "ExecuteTime": {
     "end_time": "2021-02-19T14:30:14.263455Z",
     "start_time": "2021-02-19T14:30:14.256554Z"
    }
   },
   "outputs": [],
   "source": [
    "# rename id as listing_id for merge\n",
    "df2.rename(columns={'id': 'listing_id'}, inplace=True)"
   ]
  },
  {
   "cell_type": "code",
   "execution_count": 51,
   "metadata": {
    "ExecuteTime": {
     "end_time": "2021-02-19T14:32:26.511047Z",
     "start_time": "2021-02-19T14:32:20.008503Z"
    }
   },
   "outputs": [
    {
     "data": {
      "text/plain": [
       "(1707049, 8)"
      ]
     },
     "execution_count": 51,
     "metadata": {},
     "output_type": "execute_result"
    }
   ],
   "source": [
    "# merge dataframes\n",
    "df = pd.merge(df1, df2, how='left', on='listing_id')\n",
    "df.shape"
   ]
  },
  {
   "cell_type": "code",
   "execution_count": 52,
   "metadata": {
    "ExecuteTime": {
     "end_time": "2021-02-19T14:32:44.630126Z",
     "start_time": "2021-02-19T14:32:38.907796Z"
    }
   },
   "outputs": [
    {
     "data": {
      "text/plain": [
       "(1706547, 8)"
      ]
     },
     "execution_count": 52,
     "metadata": {},
     "output_type": "execute_result"
    }
   ],
   "source": [
    "df.dropna(inplace=True)\n",
    "df.drop_duplicates(subset=['id'], inplace=True)\n",
    "df.shape"
   ]
  },
  {
   "cell_type": "code",
   "execution_count": 53,
   "metadata": {
    "ExecuteTime": {
     "end_time": "2021-02-19T14:32:51.927736Z",
     "start_time": "2021-02-19T14:32:51.859896Z"
    }
   },
   "outputs": [],
   "source": [
    "df.reviewer_id = df.reviewer_id.astype(int)"
   ]
  },
  {
   "cell_type": "code",
   "execution_count": 54,
   "metadata": {
    "ExecuteTime": {
     "end_time": "2021-02-19T14:32:53.463317Z",
     "start_time": "2021-02-19T14:32:53.415247Z"
    }
   },
   "outputs": [
    {
     "name": "stdout",
     "output_type": "stream",
     "text": [
      "<class 'pandas.core.frame.DataFrame'>\n",
      "Int64Index: 1706547 entries, 0 to 1707048\n",
      "Data columns (total 8 columns):\n",
      " #   Column         Dtype \n",
      "---  ------         ----- \n",
      " 0   listing_id     int64 \n",
      " 1   reviewer_id    int64 \n",
      " 2   reviewer_name  object\n",
      " 3   id             int64 \n",
      " 4   date           object\n",
      " 5   comments       object\n",
      " 6   host_id        int64 \n",
      " 7   host_name      object\n",
      "dtypes: int64(4), object(4)\n",
      "memory usage: 117.2+ MB\n"
     ]
    }
   ],
   "source": [
    "df.info()"
   ]
  },
  {
   "cell_type": "code",
   "execution_count": 55,
   "metadata": {
    "ExecuteTime": {
     "end_time": "2021-02-19T14:33:10.838344Z",
     "start_time": "2021-02-19T14:32:55.344506Z"
    }
   },
   "outputs": [],
   "source": [
    "# write merged data to CSV\n",
    "df.to_csv('../capstone-data-airbnb/merged_network_data_oct19.csv')"
   ]
  },
  {
   "cell_type": "markdown",
   "metadata": {},
   "source": [
    "### Dec-20 data"
   ]
  },
  {
   "cell_type": "markdown",
   "metadata": {},
   "source": [
    "#### Reviews data"
   ]
  },
  {
   "cell_type": "code",
   "execution_count": 18,
   "metadata": {
    "ExecuteTime": {
     "end_time": "2021-02-20T13:38:55.803975Z",
     "start_time": "2021-02-20T13:38:51.169541Z"
    }
   },
   "outputs": [
    {
     "data": {
      "text/plain": [
       "(1178933, 6)"
      ]
     },
     "execution_count": 18,
     "metadata": {},
     "output_type": "execute_result"
    }
   ],
   "source": [
    "# load data for Dec 20 reviews from database\n",
    "df_reviews_20 = pd.read_sql('SELECT * FROM dec20_reviews', conn)\n",
    "df_reviews_20.shape"
   ]
  },
  {
   "cell_type": "code",
   "execution_count": 19,
   "metadata": {
    "ExecuteTime": {
     "end_time": "2021-02-20T13:38:57.673826Z",
     "start_time": "2021-02-20T13:38:57.352360Z"
    }
   },
   "outputs": [
    {
     "data": {
      "text/plain": [
       "(1178411, 6)"
      ]
     },
     "execution_count": 19,
     "metadata": {},
     "output_type": "execute_result"
    }
   ],
   "source": [
    "# drop null comments\n",
    "df_reviews_20.dropna(inplace=True)\n",
    "df_reviews_20.shape"
   ]
  },
  {
   "cell_type": "code",
   "execution_count": 20,
   "metadata": {
    "ExecuteTime": {
     "end_time": "2021-02-20T13:39:03.980713Z",
     "start_time": "2021-02-20T13:39:03.191400Z"
    }
   },
   "outputs": [
    {
     "data": {
      "text/plain": [
       "(1158062, 6)"
      ]
     },
     "execution_count": 20,
     "metadata": {},
     "output_type": "execute_result"
    }
   ],
   "source": [
    "# drop reviews containing 'This is an automated posting'\n",
    "automated = df_reviews_20[df_reviews_20.comments.str.contains('This is an automated posting')].index\n",
    "df_reviews_20.drop(index=automated, inplace=True)\n",
    "df_reviews_20.shape"
   ]
  },
  {
   "cell_type": "markdown",
   "metadata": {},
   "source": [
    "#### Listings data"
   ]
  },
  {
   "cell_type": "code",
   "execution_count": 21,
   "metadata": {
    "ExecuteTime": {
     "end_time": "2021-02-20T13:39:10.720959Z",
     "start_time": "2021-02-20T13:39:07.590353Z"
    }
   },
   "outputs": [
    {
     "data": {
      "text/plain": [
       "(77136, 74)"
      ]
     },
     "execution_count": 21,
     "metadata": {},
     "output_type": "execute_result"
    }
   ],
   "source": [
    "# load data for Dec 20 listings from database\n",
    "df_listings_20 = pd.read_sql('SELECT * FROM dec20_listings', conn)\n",
    "df_listings_20.shape"
   ]
  },
  {
   "cell_type": "markdown",
   "metadata": {},
   "source": [
    "### Merge data"
   ]
  },
  {
   "cell_type": "code",
   "execution_count": 22,
   "metadata": {
    "ExecuteTime": {
     "end_time": "2021-02-20T13:39:19.976180Z",
     "start_time": "2021-02-20T13:39:19.732980Z"
    }
   },
   "outputs": [],
   "source": [
    "# create subsets with relevant columns for merging\n",
    "df1 = df_reviews_20[['listing_id', 'reviewer_id', 'reviewer_name', 'id', 'date', 'comments']].copy()\n",
    "df2 = df_listings_20[['id', 'host_id', 'host_name']].copy()"
   ]
  },
  {
   "cell_type": "code",
   "execution_count": 23,
   "metadata": {
    "ExecuteTime": {
     "end_time": "2021-02-20T13:39:21.262030Z",
     "start_time": "2021-02-20T13:39:21.257946Z"
    }
   },
   "outputs": [],
   "source": [
    "# rename id as listing_id for merge\n",
    "df2.rename(columns={'id': 'listing_id'}, inplace=True)"
   ]
  },
  {
   "cell_type": "code",
   "execution_count": 24,
   "metadata": {
    "ExecuteTime": {
     "end_time": "2021-02-20T13:39:22.841830Z",
     "start_time": "2021-02-20T13:39:22.458332Z"
    }
   },
   "outputs": [
    {
     "data": {
      "text/plain": [
       "(1158062, 8)"
      ]
     },
     "execution_count": 24,
     "metadata": {},
     "output_type": "execute_result"
    }
   ],
   "source": [
    "# merge dataframes\n",
    "df = pd.merge(df1, df2, how='left', on='listing_id')\n",
    "df.shape"
   ]
  },
  {
   "cell_type": "code",
   "execution_count": 25,
   "metadata": {
    "ExecuteTime": {
     "end_time": "2021-02-20T13:39:26.861577Z",
     "start_time": "2021-02-20T13:39:26.214285Z"
    }
   },
   "outputs": [
    {
     "data": {
      "text/plain": [
       "(1156947, 8)"
      ]
     },
     "execution_count": 25,
     "metadata": {},
     "output_type": "execute_result"
    }
   ],
   "source": [
    "df.dropna(inplace=True)\n",
    "df.drop_duplicates(subset=['id'], inplace=True)\n",
    "df.shape"
   ]
  },
  {
   "cell_type": "code",
   "execution_count": 26,
   "metadata": {
    "ExecuteTime": {
     "end_time": "2021-02-20T13:39:28.036949Z",
     "start_time": "2021-02-20T13:39:28.030275Z"
    }
   },
   "outputs": [],
   "source": [
    "df.reviewer_id = df.reviewer_id.astype(int)"
   ]
  },
  {
   "cell_type": "code",
   "execution_count": 27,
   "metadata": {
    "ExecuteTime": {
     "end_time": "2021-02-20T13:39:32.124384Z",
     "start_time": "2021-02-20T13:39:31.881285Z"
    }
   },
   "outputs": [
    {
     "name": "stdout",
     "output_type": "stream",
     "text": [
      "<class 'pandas.core.frame.DataFrame'>\n",
      "Int64Index: 1156947 entries, 0 to 1158061\n",
      "Data columns (total 8 columns):\n",
      " #   Column         Non-Null Count    Dtype \n",
      "---  ------         --------------    ----- \n",
      " 0   listing_id     1156947 non-null  int64 \n",
      " 1   reviewer_id    1156947 non-null  int64 \n",
      " 2   reviewer_name  1156947 non-null  object\n",
      " 3   id             1156947 non-null  int64 \n",
      " 4   date           1156947 non-null  object\n",
      " 5   comments       1156947 non-null  object\n",
      " 6   host_id        1156947 non-null  int64 \n",
      " 7   host_name      1156947 non-null  object\n",
      "dtypes: int64(4), object(4)\n",
      "memory usage: 79.4+ MB\n"
     ]
    }
   ],
   "source": [
    "df.info()"
   ]
  },
  {
   "cell_type": "code",
   "execution_count": 51,
   "metadata": {
    "ExecuteTime": {
     "end_time": "2021-02-20T13:55:40.894307Z",
     "start_time": "2021-02-20T13:55:39.022052Z"
    }
   },
   "outputs": [],
   "source": [
    "df.comments = df.comments.map(lambda x: x.replace('\\r', ''))"
   ]
  },
  {
   "cell_type": "code",
   "execution_count": 53,
   "metadata": {
    "ExecuteTime": {
     "end_time": "2021-02-20T13:55:54.362248Z",
     "start_time": "2021-02-20T13:55:47.119870Z"
    }
   },
   "outputs": [],
   "source": [
    "# write merged data to CSV\n",
    "df.to_csv('../capstone-data-airbnb/merged_network_data_dec20.csv', index=False)"
   ]
  }
 ],
 "metadata": {
  "kernelspec": {
   "display_name": "Python 3",
   "language": "python",
   "name": "python3"
  },
  "language_info": {
   "codemirror_mode": {
    "name": "ipython",
    "version": 3
   },
   "file_extension": ".py",
   "mimetype": "text/x-python",
   "name": "python",
   "nbconvert_exporter": "python",
   "pygments_lexer": "ipython3",
   "version": "3.8.2"
  },
  "toc": {
   "base_numbering": 1,
   "nav_menu": {},
   "number_sections": false,
   "sideBar": true,
   "skip_h1_title": true,
   "title_cell": "Table of Contents",
   "title_sidebar": "Contents",
   "toc_cell": false,
   "toc_position": {},
   "toc_section_display": true,
   "toc_window_display": false
  },
  "varInspector": {
   "cols": {
    "lenName": 16,
    "lenType": 16,
    "lenVar": 40
   },
   "kernels_config": {
    "python": {
     "delete_cmd_postfix": "",
     "delete_cmd_prefix": "del ",
     "library": "var_list.py",
     "varRefreshCmd": "print(var_dic_list())"
    },
    "r": {
     "delete_cmd_postfix": ") ",
     "delete_cmd_prefix": "rm(",
     "library": "var_list.r",
     "varRefreshCmd": "cat(var_dic_list()) "
    }
   },
   "types_to_exclude": [
    "module",
    "function",
    "builtin_function_or_method",
    "instance",
    "_Feature"
   ],
   "window_display": false
  }
 },
 "nbformat": 4,
 "nbformat_minor": 4
}
