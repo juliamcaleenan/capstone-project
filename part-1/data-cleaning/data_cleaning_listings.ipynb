{
 "cells": [
  {
   "cell_type": "markdown",
   "metadata": {},
   "source": [
    "# Capstone Project \n",
    "## Part 1 - Predicting Airbnb rental prices"
   ]
  },
  {
   "cell_type": "markdown",
   "metadata": {},
   "source": [
    "## Data cleaning - Dec 20 active listings"
   ]
  },
  {
   "cell_type": "code",
   "execution_count": 1,
   "metadata": {
    "ExecuteTime": {
     "end_time": "2021-03-01T15:51:12.303079Z",
     "start_time": "2021-03-01T15:51:11.160505Z"
    }
   },
   "outputs": [],
   "source": [
    "import pandas as pd\n",
    "import numpy as np\n",
    "import datetime\n",
    "import re\n",
    "import psycopg2\n",
    "import seaborn as sns\n",
    "import matplotlib.pyplot as plt\n",
    "from sklearn.feature_extraction.text import CountVectorizer, TfidfVectorizer\n",
    "from sklearn.linear_model import LinearRegression\n",
    "\n",
    "%config InlineBackend.figure_format = 'retina'\n",
    "%matplotlib inline\n",
    "\n",
    "sns.set_theme(context='notebook', style='darkgrid', palette='deep', font_scale=1.5)\n",
    "\n",
    "date_scraped = datetime.datetime(2020, 12, 16)"
   ]
  },
  {
   "cell_type": "code",
   "execution_count": 2,
   "metadata": {
    "ExecuteTime": {
     "end_time": "2021-03-01T15:51:15.618803Z",
     "start_time": "2021-03-01T15:51:12.304195Z"
    }
   },
   "outputs": [
    {
     "data": {
      "text/plain": [
       "(77136, 74)"
      ]
     },
     "execution_count": 2,
     "metadata": {},
     "output_type": "execute_result"
    }
   ],
   "source": [
    "# connect to database\n",
    "db_user = 'postgres'\n",
    "db_password = ''\n",
    "db_host = 'localhost'\n",
    "db_port = 5432\n",
    "database = 'airbnb'\n",
    "\n",
    "conn_str = f'postgresql://{db_user}:{db_password}@{db_host}:{db_port}/{database}'\n",
    "conn = psycopg2.connect(conn_str)\n",
    "\n",
    "# load data for Dec 20 listings from database\n",
    "df = pd.read_sql('SELECT * FROM dec20_listings', conn)\n",
    "df.shape"
   ]
  },
  {
   "cell_type": "markdown",
   "metadata": {},
   "source": [
    "### Clean up price\n",
    "The price will be the target variable for the first part of the project. \n",
    "- Remove $ signs (it is actually quoted in £) and convert to a float\n",
    "- Remove 22 rows with price = 0"
   ]
  },
  {
   "cell_type": "code",
   "execution_count": 3,
   "metadata": {
    "ExecuteTime": {
     "end_time": "2021-03-01T15:51:15.621725Z",
     "start_time": "2021-03-01T15:51:15.620066Z"
    }
   },
   "outputs": [],
   "source": [
    "def clean_price(string):\n",
    "    string = string.replace('$', '').replace(',', '')\n",
    "    return string"
   ]
  },
  {
   "cell_type": "code",
   "execution_count": 4,
   "metadata": {
    "ExecuteTime": {
     "end_time": "2021-03-01T15:51:15.791464Z",
     "start_time": "2021-03-01T15:51:15.622891Z"
    }
   },
   "outputs": [],
   "source": [
    "df.price = df.price.map(clean_price).astype(float)\n",
    "# drop rows with price = £0\n",
    "df = df[df.price != 0]"
   ]
  },
  {
   "cell_type": "markdown",
   "metadata": {
    "ExecuteTime": {
     "end_time": "2021-02-16T22:01:05.136113Z",
     "start_time": "2021-02-16T22:01:05.131037Z"
    }
   },
   "source": [
    "### Active listings\n",
    "For this analysis we will only consider active listings since inactive listings are likely to have unreliable data. Unfortunately there is no easy way to define active listings from the data. \n",
    "\n",
    "We will assume that for a listing to be active:\n",
    "1. It must have been reviewed in the last 12 months\n",
    "2. It must have at least two nights booked in the next 90 days"
   ]
  },
  {
   "cell_type": "code",
   "execution_count": 5,
   "metadata": {
    "ExecuteTime": {
     "end_time": "2021-03-01T15:51:15.796833Z",
     "start_time": "2021-03-01T15:51:15.792490Z"
    }
   },
   "outputs": [
    {
     "name": "stdout",
     "output_type": "stream",
     "text": [
      "Count of listings with 90 day availability = 90: 10633\n",
      "Count of listings with 90 day availability = 89: 6398\n",
      "Count of listings with 90 day availability = 88: 2905\n"
     ]
    }
   ],
   "source": [
    "print('Count of listings with 90 day availability = 90:', (df.availability_90 == 90).sum())\n",
    "print('Count of listings with 90 day availability = 89:', (df.availability_90 == 89).sum())\n",
    "print('Count of listings with 90 day availability = 88:', (df.availability_90 == 88).sum())"
   ]
  },
  {
   "cell_type": "code",
   "execution_count": 6,
   "metadata": {
    "ExecuteTime": {
     "end_time": "2021-03-01T15:51:15.962578Z",
     "start_time": "2021-03-01T15:51:15.797801Z"
    }
   },
   "outputs": [
    {
     "data": {
      "text/plain": [
       "(21055, 74)"
      ]
     },
     "execution_count": 6,
     "metadata": {},
     "output_type": "execute_result"
    }
   ],
   "source": [
    "# subset on listings which have been reviewed in the last 12 months\n",
    "df = df[df.number_of_reviews_ltm > 0]\n",
    "# subset on listings which have at least two nights booked in the next 90 days\n",
    "df = df[df.availability_90 < 89]\n",
    "df.shape"
   ]
  },
  {
   "cell_type": "markdown",
   "metadata": {},
   "source": [
    "### Drop redundant columns and rows\n",
    "- Drop 11 rows with no information on the host.\n",
    "- Drop 4 columns with all null values (`neighbourhood_group_cleansed`, `bathrooms`, `calendar_updated`, `license`)."
   ]
  },
  {
   "cell_type": "code",
   "execution_count": 7,
   "metadata": {
    "ExecuteTime": {
     "end_time": "2021-03-01T15:51:16.006742Z",
     "start_time": "2021-03-01T15:51:15.963595Z"
    }
   },
   "outputs": [],
   "source": [
    "# drop rows with no host info\n",
    "df.dropna(subset=['host_name'], inplace=True)\n",
    "# drop 4 columns with all null values\n",
    "df.drop(columns=['neighbourhood_group_cleansed', 'bathrooms', 'calendar_updated', 'license'], inplace=True)"
   ]
  },
  {
   "cell_type": "markdown",
   "metadata": {},
   "source": [
    "### Property type vs room type\n",
    "- `room_type` looks more useful than `property_type` which contains many categories, many of which have few occurrences. \n",
    "- Consider NLP for `property_type` to see if we can extract useful information which is not included in `room_type` (see EDA)."
   ]
  },
  {
   "cell_type": "code",
   "execution_count": 8,
   "metadata": {
    "ExecuteTime": {
     "end_time": "2021-03-01T15:51:16.017322Z",
     "start_time": "2021-03-01T15:51:16.009126Z"
    }
   },
   "outputs": [
    {
     "data": {
      "text/plain": [
       "Entire home/apt    13635\n",
       "Private room        7162\n",
       "Hotel room           165\n",
       "Shared room           82\n",
       "Name: room_type, dtype: int64"
      ]
     },
     "execution_count": 8,
     "metadata": {},
     "output_type": "execute_result"
    }
   ],
   "source": [
    "df.room_type.value_counts()"
   ]
  },
  {
   "cell_type": "code",
   "execution_count": 9,
   "metadata": {
    "ExecuteTime": {
     "end_time": "2021-03-01T15:51:16.026736Z",
     "start_time": "2021-03-01T15:51:16.019049Z"
    },
    "scrolled": true
   },
   "outputs": [
    {
     "data": {
      "text/plain": [
       "Entire apartment               10683\n",
       "Private room in apartment       3448\n",
       "Private room in house           2507\n",
       "Entire house                    1474\n",
       "Private room in townhouse        500\n",
       "Entire condominium               442\n",
       "Entire townhouse                 327\n",
       "Entire serviced apartment        230\n",
       "Entire loft                      166\n",
       "Private room in condominium      149\n",
       "Name: property_type, dtype: int64"
      ]
     },
     "execution_count": 9,
     "metadata": {},
     "output_type": "execute_result"
    }
   ],
   "source": [
    "df.property_type.value_counts()[:10]"
   ]
  },
  {
   "cell_type": "markdown",
   "metadata": {},
   "source": [
    "### Bathroom data\n",
    "- The column `bathrooms_text` contains strings such as '1.5 shared baths'. Create two new columns based on this - one with a numeric number of bathrooms and one with the type (private or shared).\n",
    "- Impute data for missing values:\n",
    " - For listings where the `room_type` is private room or shared room, assume 1 shared bath.\n",
    " - For listings where the `room_type` is entire home/apt (only 1 listing), assume 1 private bath."
   ]
  },
  {
   "cell_type": "code",
   "execution_count": 10,
   "metadata": {
    "ExecuteTime": {
     "end_time": "2021-03-01T15:51:16.036711Z",
     "start_time": "2021-03-01T15:51:16.027648Z"
    },
    "scrolled": true
   },
   "outputs": [
    {
     "data": {
      "text/plain": [
       "1 bath            9227\n",
       "1 shared bath     3099\n",
       "2 baths           2637\n",
       "1 private bath    1631\n",
       "1.5 baths         1551\n",
       "Name: bathrooms_text, dtype: int64"
      ]
     },
     "execution_count": 10,
     "metadata": {},
     "output_type": "execute_result"
    }
   ],
   "source": [
    "df.bathrooms_text.value_counts().head()"
   ]
  },
  {
   "cell_type": "code",
   "execution_count": 11,
   "metadata": {
    "ExecuteTime": {
     "end_time": "2021-03-01T15:51:16.042382Z",
     "start_time": "2021-03-01T15:51:16.038476Z"
    }
   },
   "outputs": [],
   "source": [
    "# extract number of bathrooms from bathrooms_text to create new feature for modelling\n",
    "def number_of_bathrooms(string):\n",
    "    try:\n",
    "        num = re.findall(r'(\\d+\\.*\\d*)', string)\n",
    "        if len(num) == 1:\n",
    "            return float(num[0])\n",
    "        elif len(num) == 0 and 'half' in string.lower():\n",
    "            return 0.5\n",
    "        else:\n",
    "            return np.nan\n",
    "    except:\n",
    "        return np.nan"
   ]
  },
  {
   "cell_type": "code",
   "execution_count": 12,
   "metadata": {
    "ExecuteTime": {
     "end_time": "2021-03-01T15:51:16.075068Z",
     "start_time": "2021-03-01T15:51:16.043615Z"
    }
   },
   "outputs": [],
   "source": [
    "df['number_bathrooms'] = df.bathrooms_text.map(number_of_bathrooms)"
   ]
  },
  {
   "cell_type": "code",
   "execution_count": 13,
   "metadata": {
    "ExecuteTime": {
     "end_time": "2021-03-01T15:51:16.085049Z",
     "start_time": "2021-03-01T15:51:16.076264Z"
    }
   },
   "outputs": [],
   "source": [
    "# extract bathroom type (shared or private) from bathrooms_text to create new feature for modelling\n",
    "def private_bathroom(string):\n",
    "    try:\n",
    "        if 'shared' in string.lower():\n",
    "            return 0\n",
    "        else:\n",
    "            return 1\n",
    "    except:\n",
    "        return np.nan"
   ]
  },
  {
   "cell_type": "code",
   "execution_count": 14,
   "metadata": {
    "ExecuteTime": {
     "end_time": "2021-03-01T15:51:16.097193Z",
     "start_time": "2021-03-01T15:51:16.085928Z"
    }
   },
   "outputs": [],
   "source": [
    "df['private_bathroom'] = df.bathrooms_text.map(private_bathroom)"
   ]
  },
  {
   "cell_type": "code",
   "execution_count": 15,
   "metadata": {
    "ExecuteTime": {
     "end_time": "2021-03-01T15:51:16.102894Z",
     "start_time": "2021-03-01T15:51:16.098009Z"
    }
   },
   "outputs": [
    {
     "data": {
      "text/plain": [
       "Private room       7\n",
       "Shared room        3\n",
       "Entire home/apt    1\n",
       "Name: room_type, dtype: int64"
      ]
     },
     "execution_count": 15,
     "metadata": {},
     "output_type": "execute_result"
    }
   ],
   "source": [
    "df[df.number_bathrooms.isnull()].room_type.value_counts()"
   ]
  },
  {
   "cell_type": "code",
   "execution_count": 16,
   "metadata": {
    "ExecuteTime": {
     "end_time": "2021-03-01T15:51:16.122832Z",
     "start_time": "2021-03-01T15:51:16.103879Z"
    }
   },
   "outputs": [
    {
     "data": {
      "text/plain": [
       "1    0.772952\n",
       "0    0.227048\n",
       "Name: private_bathroom, dtype: float64"
      ]
     },
     "execution_count": 16,
     "metadata": {},
     "output_type": "execute_result"
    }
   ],
   "source": [
    "# impute missing values\n",
    "df.number_bathrooms.fillna(1.0, inplace=True)\n",
    "df.loc[(df.room_type == 'Private room') & (df.private_bathroom.isnull()) , 'private_bathroom'] = 0\n",
    "df.loc[(df.room_type == 'Shared room') & (df.private_bathroom.isnull()) , 'private_bathroom'] = 0\n",
    "df.loc[(df.room_type == 'Entire home/apt') & (df.private_bathroom.isnull()) , 'private_bathroom'] = 1\n",
    "df.private_bathroom = df.private_bathroom.astype(int)\n",
    "df.private_bathroom.value_counts(normalize=True)"
   ]
  },
  {
   "cell_type": "markdown",
   "metadata": {},
   "source": [
    "### Bedrooms\n",
    "- `accommodates`, `beds` and `bedrooms` are closely linked.\n",
    "- `accommodates` has no missing values, but `beds` and `bedrooms` both have some missing values.\n",
    "- Impute missing values for `beds` and `bedrooms` using a simple linear regression with `accommodates` as the predictor."
   ]
  },
  {
   "cell_type": "code",
   "execution_count": 17,
   "metadata": {
    "ExecuteTime": {
     "end_time": "2021-03-01T15:51:16.129768Z",
     "start_time": "2021-03-01T15:51:16.124949Z"
    }
   },
   "outputs": [
    {
     "name": "stdout",
     "output_type": "stream",
     "text": [
      "Null values in bedrooms:  1349\n",
      "Null values in beds:  168\n",
      "Null values in both bedrooms and beds:  11\n"
     ]
    }
   ],
   "source": [
    "print('Null values in bedrooms: ', df.bedrooms.isnull().sum())\n",
    "print('Null values in beds: ', df.beds.isnull().sum())\n",
    "print('Null values in both bedrooms and beds: ', (df.bedrooms.isnull() & df.beds.isnull()).sum())"
   ]
  },
  {
   "cell_type": "code",
   "execution_count": 18,
   "metadata": {
    "ExecuteTime": {
     "end_time": "2021-03-01T15:51:16.183291Z",
     "start_time": "2021-03-01T15:51:16.130994Z"
    }
   },
   "outputs": [
    {
     "name": "stdout",
     "output_type": "stream",
     "text": [
      "Model score: 0.671260504404837\n"
     ]
    },
    {
     "data": {
      "text/plain": [
       "(array([0.5377622]), 0.023810381586908846)"
      ]
     },
     "execution_count": 18,
     "metadata": {},
     "output_type": "execute_result"
    }
   ],
   "source": [
    "# use linear regression to predict beds from accommodates\n",
    "y = df[df.beds.notnull()].beds\n",
    "X = df[df.beds.notnull()][['accommodates']]\n",
    "lr1 = LinearRegression(fit_intercept=True)\n",
    "lr1.fit(X, y)\n",
    "print('Model score:', lr1.score(X, y))\n",
    "lr1.coef_, lr1.intercept_"
   ]
  },
  {
   "cell_type": "code",
   "execution_count": 19,
   "metadata": {
    "ExecuteTime": {
     "end_time": "2021-03-01T15:51:16.229673Z",
     "start_time": "2021-03-01T15:51:16.186309Z"
    }
   },
   "outputs": [
    {
     "name": "stdout",
     "output_type": "stream",
     "text": [
      "Model score: 0.6428857397756884\n"
     ]
    },
    {
     "data": {
      "text/plain": [
       "(array([0.34078598]), 0.3711961621405697)"
      ]
     },
     "execution_count": 19,
     "metadata": {},
     "output_type": "execute_result"
    }
   ],
   "source": [
    "# use linear regression to predict bedrooms from accommodates\n",
    "y = df[df.bedrooms.notnull()].bedrooms\n",
    "X = df[df.bedrooms.notnull()][['accommodates']]\n",
    "lr2 = LinearRegression(fit_intercept=True)\n",
    "lr2.fit(X, y)\n",
    "print('Model score:', lr2.score(X, y))\n",
    "lr2.coef_, lr2.intercept_"
   ]
  },
  {
   "cell_type": "code",
   "execution_count": 20,
   "metadata": {
    "ExecuteTime": {
     "end_time": "2021-03-01T15:51:16.234181Z",
     "start_time": "2021-03-01T15:51:16.231309Z"
    }
   },
   "outputs": [],
   "source": [
    "def impute_from_accommodates(df, col, model):\n",
    "    '''\n",
    "    Function to impute missing values in a column based\n",
    "    on a simple linear regression model using the accommodates\n",
    "    feature as the predictor variable\n",
    "    '''\n",
    "    if np.isnan(df[col]):\n",
    "        try:\n",
    "            return round(model.intercept_ + model.coef_[0] * df['accommodates'], 0)\n",
    "        except:\n",
    "            return np.nan\n",
    "    else:\n",
    "        return df[col]"
   ]
  },
  {
   "cell_type": "code",
   "execution_count": 21,
   "metadata": {
    "ExecuteTime": {
     "end_time": "2021-03-01T15:51:16.653690Z",
     "start_time": "2021-03-01T15:51:16.235514Z"
    }
   },
   "outputs": [],
   "source": [
    "df['number_beds'] = df.apply(impute_from_accommodates, col='beds', model=lr1, axis=1)\n",
    "df['number_bedrooms'] = df.apply(impute_from_accommodates, col='bedrooms', model=lr2, axis=1)\n",
    "df['number_beds'] = df['number_beds'].astype(int)\n",
    "df['number_bedrooms'] = df['number_bedrooms'].astype(int)"
   ]
  },
  {
   "cell_type": "markdown",
   "metadata": {},
   "source": [
    "### Host listings count"
   ]
  },
  {
   "cell_type": "code",
   "execution_count": 22,
   "metadata": {
    "ExecuteTime": {
     "end_time": "2021-03-01T15:51:16.657751Z",
     "start_time": "2021-03-01T15:51:16.654542Z"
    }
   },
   "outputs": [
    {
     "data": {
      "text/plain": [
       "1.0    7106\n",
       "2.0    3234\n",
       "0.0    2759\n",
       "3.0    1549\n",
       "4.0     880\n",
       "Name: host_listings_count, dtype: int64"
      ]
     },
     "execution_count": 22,
     "metadata": {},
     "output_type": "execute_result"
    }
   ],
   "source": [
    "# data contains some instances of zero\n",
    "# check against calculated_host_listings_count (overall less accurate) - makes sense to replace 0 with 1\n",
    "df.host_listings_count.value_counts().head()"
   ]
  },
  {
   "cell_type": "code",
   "execution_count": 23,
   "metadata": {
    "ExecuteTime": {
     "end_time": "2021-03-01T15:51:16.666934Z",
     "start_time": "2021-03-01T15:51:16.662210Z"
    }
   },
   "outputs": [],
   "source": [
    "# replace 0 values in host_listings_count with 1\n",
    "df.host_listings_count.replace(0, 1, inplace=True)\n",
    "# convert to integer (from float)\n",
    "df.host_listings_count = df.host_listings_count.astype(int)"
   ]
  },
  {
   "cell_type": "markdown",
   "metadata": {},
   "source": [
    "### Binary variables\n",
    "- Convert binary variables (t, f) to (1, 0) for modelling\n",
    "- Check proportions"
   ]
  },
  {
   "cell_type": "code",
   "execution_count": 24,
   "metadata": {
    "ExecuteTime": {
     "end_time": "2021-03-01T15:51:16.671519Z",
     "start_time": "2021-03-01T15:51:16.669751Z"
    }
   },
   "outputs": [],
   "source": [
    "# function to create binary variables from existing format of (t, f)\n",
    "def binarize(string):\n",
    "    if string == 't':\n",
    "        return 1\n",
    "    elif string == 'f':\n",
    "        return 0\n",
    "    else:\n",
    "        return np.nan"
   ]
  },
  {
   "cell_type": "code",
   "execution_count": 25,
   "metadata": {
    "ExecuteTime": {
     "end_time": "2021-03-01T15:51:16.691629Z",
     "start_time": "2021-03-01T15:51:16.672481Z"
    }
   },
   "outputs": [
    {
     "data": {
      "text/plain": [
       "0    0.698109\n",
       "1    0.301891\n",
       "Name: host_is_superhost, dtype: float64"
      ]
     },
     "execution_count": 25,
     "metadata": {},
     "output_type": "execute_result"
    }
   ],
   "source": [
    "df.host_is_superhost = df.host_is_superhost.map(binarize)\n",
    "df.host_is_superhost.value_counts(normalize=True)"
   ]
  },
  {
   "cell_type": "code",
   "execution_count": 26,
   "metadata": {
    "ExecuteTime": {
     "end_time": "2021-03-01T15:51:16.713906Z",
     "start_time": "2021-03-01T15:51:16.693204Z"
    }
   },
   "outputs": [
    {
     "data": {
      "text/plain": [
       "1    0.859627\n",
       "0    0.140373\n",
       "Name: host_identity_verified, dtype: float64"
      ]
     },
     "execution_count": 26,
     "metadata": {},
     "output_type": "execute_result"
    }
   ],
   "source": [
    "df.host_identity_verified = df.host_identity_verified.map(binarize)\n",
    "df.host_identity_verified.value_counts(normalize=True)"
   ]
  },
  {
   "cell_type": "code",
   "execution_count": 27,
   "metadata": {
    "ExecuteTime": {
     "end_time": "2021-03-01T15:51:16.737146Z",
     "start_time": "2021-03-01T15:51:16.715407Z"
    }
   },
   "outputs": [
    {
     "data": {
      "text/plain": [
       "0    0.618561\n",
       "1    0.381439\n",
       "Name: instant_bookable, dtype: float64"
      ]
     },
     "execution_count": 27,
     "metadata": {},
     "output_type": "execute_result"
    }
   ],
   "source": [
    "df.instant_bookable = df.instant_bookable.map(binarize)\n",
    "df.instant_bookable.value_counts(normalize=True)"
   ]
  },
  {
   "cell_type": "code",
   "execution_count": 28,
   "metadata": {
    "ExecuteTime": {
     "end_time": "2021-03-01T15:51:16.759800Z",
     "start_time": "2021-03-01T15:51:16.738108Z"
    }
   },
   "outputs": [
    {
     "data": {
      "text/plain": [
       "1    0.997957\n",
       "0    0.002043\n",
       "Name: has_availability, dtype: float64"
      ]
     },
     "execution_count": 28,
     "metadata": {},
     "output_type": "execute_result"
    }
   ],
   "source": [
    "# drop has_availability as is true in 99.8% of listings so will have no predictive power\n",
    "df.has_availability = df.has_availability.map(binarize)\n",
    "df.has_availability.value_counts(normalize=True)"
   ]
  },
  {
   "cell_type": "markdown",
   "metadata": {},
   "source": [
    "### Amenities\n",
    "The `amenities` feature contains a list of amenities for each listing. We will need to use NLP to extract useful information for modelling."
   ]
  },
  {
   "cell_type": "code",
   "execution_count": 29,
   "metadata": {
    "ExecuteTime": {
     "end_time": "2021-03-01T15:51:16.763437Z",
     "start_time": "2021-03-01T15:51:16.760697Z"
    }
   },
   "outputs": [
    {
     "data": {
      "text/plain": [
       "'[\"Refrigerator\", \"Kitchen\", \"Crib\", \"Dedicated workspace\", \"Lockbox\", \"Stove\", \"Carbon monoxide alarm\", \"Iron\", \"Cable TV\", \"Wifi\", \"Long term stays allowed\", \"Fire extinguisher\", \"Smoke alarm\", \"Hot water\", \"Heating\", \"Paid parking off premises\", \"Washer\", \"Essentials\", \"High chair\", \"TV\", \"Hangers\", \"Coffee maker\", \"Oven\", \"Pack \\\\u2019n Play/travel crib\", \"Hair dryer\", \"Microwave\", \"Cooking basics\", \"Dishes and silverware\"]'"
      ]
     },
     "execution_count": 29,
     "metadata": {},
     "output_type": "execute_result"
    }
   ],
   "source": [
    "df.amenities[0]"
   ]
  },
  {
   "cell_type": "code",
   "execution_count": 30,
   "metadata": {
    "ExecuteTime": {
     "end_time": "2021-03-01T15:51:17.075570Z",
     "start_time": "2021-03-01T15:51:16.764447Z"
    }
   },
   "outputs": [],
   "source": [
    "# use CountVectorizer to inspect the words in the amenities column\n",
    "cvec = CountVectorizer(token_pattern='(?u)[a-zA-Z][a-z ]+',\n",
    "                       ngram_range=(1,1))\n",
    "cmat = cvec.fit_transform(df.amenities)"
   ]
  },
  {
   "cell_type": "code",
   "execution_count": 31,
   "metadata": {
    "ExecuteTime": {
     "end_time": "2021-03-01T15:51:17.083968Z",
     "start_time": "2021-03-01T15:51:17.076595Z"
    },
    "scrolled": true
   },
   "outputs": [
    {
     "data": {
      "text/html": [
       "<div>\n",
       "<style scoped>\n",
       "    .dataframe tbody tr th:only-of-type {\n",
       "        vertical-align: middle;\n",
       "    }\n",
       "\n",
       "    .dataframe tbody tr th {\n",
       "        vertical-align: top;\n",
       "    }\n",
       "\n",
       "    .dataframe thead th {\n",
       "        text-align: right;\n",
       "    }\n",
       "</style>\n",
       "<table border=\"1\" class=\"dataframe\">\n",
       "  <thead>\n",
       "    <tr style=\"text-align: right;\">\n",
       "      <th></th>\n",
       "      <th>counts</th>\n",
       "    </tr>\n",
       "  </thead>\n",
       "  <tbody>\n",
       "    <tr>\n",
       "      <th>wifi</th>\n",
       "      <td>20658</td>\n",
       "    </tr>\n",
       "    <tr>\n",
       "      <th>heating</th>\n",
       "      <td>20486</td>\n",
       "    </tr>\n",
       "    <tr>\n",
       "      <th>essentials</th>\n",
       "      <td>20318</td>\n",
       "    </tr>\n",
       "    <tr>\n",
       "      <th>smoke alarm</th>\n",
       "      <td>19514</td>\n",
       "    </tr>\n",
       "    <tr>\n",
       "      <th>kitchen</th>\n",
       "      <td>19023</td>\n",
       "    </tr>\n",
       "    <tr>\n",
       "      <th>hangers</th>\n",
       "      <td>18597</td>\n",
       "    </tr>\n",
       "    <tr>\n",
       "      <th>washer</th>\n",
       "      <td>18309</td>\n",
       "    </tr>\n",
       "    <tr>\n",
       "      <th>iron</th>\n",
       "      <td>18179</td>\n",
       "    </tr>\n",
       "    <tr>\n",
       "      <th>hair dryer</th>\n",
       "      <td>17423</td>\n",
       "    </tr>\n",
       "    <tr>\n",
       "      <th>hot water</th>\n",
       "      <td>16796</td>\n",
       "    </tr>\n",
       "  </tbody>\n",
       "</table>\n",
       "</div>"
      ],
      "text/plain": [
       "             counts\n",
       "wifi          20658\n",
       "heating       20486\n",
       "essentials    20318\n",
       "smoke alarm   19514\n",
       "kitchen       19023\n",
       "hangers       18597\n",
       "washer        18309\n",
       "iron          18179\n",
       "hair dryer    17423\n",
       "hot water     16796"
      ]
     },
     "execution_count": 31,
     "metadata": {},
     "output_type": "execute_result"
    }
   ],
   "source": [
    "# look at 10 most frequently occurring words/phrases\n",
    "pd.DataFrame(np.array(cmat.sum(axis=0))[0],\n",
    "             index=cvec.get_feature_names(), columns=['counts']).sort_values('counts', ascending=False)[:10]"
   ]
  },
  {
   "cell_type": "markdown",
   "metadata": {},
   "source": [
    "### Availability\n",
    "- `availability_30`, `availability_60` and `availability_90` are very highly correlated\n",
    "- Consider using only `availability_90` and `availability_365` for modelling"
   ]
  },
  {
   "cell_type": "code",
   "execution_count": 32,
   "metadata": {
    "ExecuteTime": {
     "end_time": "2021-03-01T15:51:17.093195Z",
     "start_time": "2021-03-01T15:51:17.084898Z"
    }
   },
   "outputs": [
    {
     "data": {
      "text/html": [
       "<div>\n",
       "<style scoped>\n",
       "    .dataframe tbody tr th:only-of-type {\n",
       "        vertical-align: middle;\n",
       "    }\n",
       "\n",
       "    .dataframe tbody tr th {\n",
       "        vertical-align: top;\n",
       "    }\n",
       "\n",
       "    .dataframe thead th {\n",
       "        text-align: right;\n",
       "    }\n",
       "</style>\n",
       "<table border=\"1\" class=\"dataframe\">\n",
       "  <thead>\n",
       "    <tr style=\"text-align: right;\">\n",
       "      <th></th>\n",
       "      <th>availability_30</th>\n",
       "      <th>availability_60</th>\n",
       "      <th>availability_90</th>\n",
       "      <th>availability_365</th>\n",
       "    </tr>\n",
       "  </thead>\n",
       "  <tbody>\n",
       "    <tr>\n",
       "      <th>availability_30</th>\n",
       "      <td>1.000000</td>\n",
       "      <td>0.910308</td>\n",
       "      <td>0.822614</td>\n",
       "      <td>0.488385</td>\n",
       "    </tr>\n",
       "    <tr>\n",
       "      <th>availability_60</th>\n",
       "      <td>0.910308</td>\n",
       "      <td>1.000000</td>\n",
       "      <td>0.967593</td>\n",
       "      <td>0.613217</td>\n",
       "    </tr>\n",
       "    <tr>\n",
       "      <th>availability_90</th>\n",
       "      <td>0.822614</td>\n",
       "      <td>0.967593</td>\n",
       "      <td>1.000000</td>\n",
       "      <td>0.682082</td>\n",
       "    </tr>\n",
       "    <tr>\n",
       "      <th>availability_365</th>\n",
       "      <td>0.488385</td>\n",
       "      <td>0.613217</td>\n",
       "      <td>0.682082</td>\n",
       "      <td>1.000000</td>\n",
       "    </tr>\n",
       "  </tbody>\n",
       "</table>\n",
       "</div>"
      ],
      "text/plain": [
       "                  availability_30  availability_60  availability_90  \\\n",
       "availability_30          1.000000         0.910308         0.822614   \n",
       "availability_60          0.910308         1.000000         0.967593   \n",
       "availability_90          0.822614         0.967593         1.000000   \n",
       "availability_365         0.488385         0.613217         0.682082   \n",
       "\n",
       "                  availability_365  \n",
       "availability_30           0.488385  \n",
       "availability_60           0.613217  \n",
       "availability_90           0.682082  \n",
       "availability_365          1.000000  "
      ]
     },
     "execution_count": 32,
     "metadata": {},
     "output_type": "execute_result"
    }
   ],
   "source": [
    "df[['availability_30', 'availability_60', 'availability_90', 'availability_365']].corr()"
   ]
  },
  {
   "cell_type": "markdown",
   "metadata": {},
   "source": [
    "### Host info"
   ]
  },
  {
   "cell_type": "markdown",
   "metadata": {},
   "source": [
    "#### `host_since`\n",
    "This is a date - convert into number of days for modelling."
   ]
  },
  {
   "cell_type": "code",
   "execution_count": 33,
   "metadata": {
    "ExecuteTime": {
     "end_time": "2021-03-01T15:51:18.139775Z",
     "start_time": "2021-03-01T15:51:17.094158Z"
    }
   },
   "outputs": [],
   "source": [
    "# calculate how long host for in days for modelling\n",
    "df['host_since_days'] = df.host_since.map(lambda x: (date_scraped - pd.to_datetime(x)).days)"
   ]
  },
  {
   "cell_type": "markdown",
   "metadata": {},
   "source": [
    "#### `host_response_time`\n",
    "This is a categorical variable. Replace missing values with 'unknown'."
   ]
  },
  {
   "cell_type": "code",
   "execution_count": 34,
   "metadata": {
    "ExecuteTime": {
     "end_time": "2021-03-01T15:51:18.149064Z",
     "start_time": "2021-03-01T15:51:18.140649Z"
    }
   },
   "outputs": [
    {
     "data": {
      "text/plain": [
       "within an hour        0.425727\n",
       "unknown               0.285497\n",
       "within a few hours    0.146455\n",
       "within a day          0.112906\n",
       "a few days or more    0.029415\n",
       "Name: host_response_time, dtype: float64"
      ]
     },
     "execution_count": 34,
     "metadata": {},
     "output_type": "execute_result"
    }
   ],
   "source": [
    "# replace missing values with 'unknown' (categorical variable)\n",
    "df.host_response_time.fillna('unknown', inplace=True)\n",
    "df.host_response_time.value_counts(normalize=True)"
   ]
  },
  {
   "cell_type": "markdown",
   "metadata": {},
   "source": [
    "#### `host_response_rate` and `host_acceptance_rate`\n",
    "Many missing values - convert these to 'unknown'. Group the numerical % values into bins so these can be treated as categorical variables."
   ]
  },
  {
   "cell_type": "code",
   "execution_count": 35,
   "metadata": {
    "ExecuteTime": {
     "end_time": "2021-03-01T15:51:18.153357Z",
     "start_time": "2021-03-01T15:51:18.151018Z"
    }
   },
   "outputs": [],
   "source": [
    "# function to create bins from a numerical variable with missing values\n",
    "def create_bins(df, col, bins, labels, na_label):\n",
    "    df[col] = pd.cut(df[col], bins=bins, labels=labels, include_lowest=True)\n",
    "    df[col] = df[col].astype(str)\n",
    "    df[col].replace(np.nan, na_label, inplace=True)"
   ]
  },
  {
   "cell_type": "code",
   "execution_count": 36,
   "metadata": {
    "ExecuteTime": {
     "end_time": "2021-03-01T15:51:18.178819Z",
     "start_time": "2021-03-01T15:51:18.154327Z"
    }
   },
   "outputs": [
    {
     "data": {
      "text/plain": [
       "100%       10735\n",
       "unknown     6008\n",
       "50-89%      1898\n",
       "90-99%      1792\n",
       "0-49%        611\n",
       "Name: host_response_rate, dtype: int64"
      ]
     },
     "execution_count": 36,
     "metadata": {},
     "output_type": "execute_result"
    }
   ],
   "source": [
    "# convert host_response_rate to bins and replace missing values with 'unknown' (treat as categorical variable)\n",
    "df.host_response_rate = df.host_response_rate.str.strip('%').astype(float)\n",
    "# create four bins\n",
    "bins = [0, 49, 89, 99, 100]\n",
    "labels = ['0-49%', '50-89%', '90-99%', '100%']\n",
    "create_bins(df, 'host_response_rate', bins, labels, 'unknown')\n",
    "df.host_response_rate.value_counts()"
   ]
  },
  {
   "cell_type": "code",
   "execution_count": 37,
   "metadata": {
    "ExecuteTime": {
     "end_time": "2021-03-01T15:51:18.204791Z",
     "start_time": "2021-03-01T15:51:18.180102Z"
    }
   },
   "outputs": [
    {
     "data": {
      "text/plain": [
       "100%       8501\n",
       "90-99%     5481\n",
       "50-89%     5230\n",
       "unknown     967\n",
       "0-49%       865\n",
       "Name: host_acceptance_rate, dtype: int64"
      ]
     },
     "execution_count": 37,
     "metadata": {},
     "output_type": "execute_result"
    }
   ],
   "source": [
    "# convert host_acceptance_rate to bins and replace missing values with 'unknown' (treat as categorical variable)\n",
    "df.host_acceptance_rate = df.host_acceptance_rate.str.strip('%').astype(float)\n",
    "# create four bins\n",
    "bins = [0, 49, 89, 99, 100]\n",
    "labels = ['0-49%', '50-89%', '90-99%', '100%']\n",
    "create_bins(df, 'host_acceptance_rate', bins, labels, 'unknown')\n",
    "df.host_acceptance_rate.value_counts()"
   ]
  },
  {
   "cell_type": "markdown",
   "metadata": {},
   "source": [
    "### Reviews"
   ]
  },
  {
   "cell_type": "code",
   "execution_count": 38,
   "metadata": {
    "ExecuteTime": {
     "end_time": "2021-03-01T15:51:18.236663Z",
     "start_time": "2021-03-01T15:51:18.205753Z"
    }
   },
   "outputs": [
    {
     "data": {
      "text/html": [
       "<div>\n",
       "<style scoped>\n",
       "    .dataframe tbody tr th:only-of-type {\n",
       "        vertical-align: middle;\n",
       "    }\n",
       "\n",
       "    .dataframe tbody tr th {\n",
       "        vertical-align: top;\n",
       "    }\n",
       "\n",
       "    .dataframe thead th {\n",
       "        text-align: right;\n",
       "    }\n",
       "</style>\n",
       "<table border=\"1\" class=\"dataframe\">\n",
       "  <thead>\n",
       "    <tr style=\"text-align: right;\">\n",
       "      <th></th>\n",
       "      <th>price</th>\n",
       "      <th>number_of_reviews</th>\n",
       "      <th>number_of_reviews_ltm</th>\n",
       "      <th>number_of_reviews_l30d</th>\n",
       "    </tr>\n",
       "  </thead>\n",
       "  <tbody>\n",
       "    <tr>\n",
       "      <th>price</th>\n",
       "      <td>1.000000</td>\n",
       "      <td>-0.069275</td>\n",
       "      <td>-0.058019</td>\n",
       "      <td>-0.022478</td>\n",
       "    </tr>\n",
       "    <tr>\n",
       "      <th>number_of_reviews</th>\n",
       "      <td>-0.069275</td>\n",
       "      <td>1.000000</td>\n",
       "      <td>0.469951</td>\n",
       "      <td>0.047508</td>\n",
       "    </tr>\n",
       "    <tr>\n",
       "      <th>number_of_reviews_ltm</th>\n",
       "      <td>-0.058019</td>\n",
       "      <td>0.469951</td>\n",
       "      <td>1.000000</td>\n",
       "      <td>0.301649</td>\n",
       "    </tr>\n",
       "    <tr>\n",
       "      <th>number_of_reviews_l30d</th>\n",
       "      <td>-0.022478</td>\n",
       "      <td>0.047508</td>\n",
       "      <td>0.301649</td>\n",
       "      <td>1.000000</td>\n",
       "    </tr>\n",
       "  </tbody>\n",
       "</table>\n",
       "</div>"
      ],
      "text/plain": [
       "                           price  number_of_reviews  number_of_reviews_ltm  \\\n",
       "price                   1.000000          -0.069275              -0.058019   \n",
       "number_of_reviews      -0.069275           1.000000               0.469951   \n",
       "number_of_reviews_ltm  -0.058019           0.469951               1.000000   \n",
       "number_of_reviews_l30d -0.022478           0.047508               0.301649   \n",
       "\n",
       "                        number_of_reviews_l30d  \n",
       "price                                -0.022478  \n",
       "number_of_reviews                     0.047508  \n",
       "number_of_reviews_ltm                 0.301649  \n",
       "number_of_reviews_l30d                1.000000  "
      ]
     },
     "execution_count": 38,
     "metadata": {},
     "output_type": "execute_result"
    }
   ],
   "source": [
    "# keep all 3 number_of_reviews features as not highly correlated\n",
    "df[['price', 'number_of_reviews', 'number_of_reviews_ltm', 'number_of_reviews_l30d']].corr()"
   ]
  },
  {
   "cell_type": "markdown",
   "metadata": {},
   "source": [
    "#### `first_review` and `last_review`\n",
    "Convert `first_review` and `last_review` dates to number of days."
   ]
  },
  {
   "cell_type": "code",
   "execution_count": 39,
   "metadata": {
    "ExecuteTime": {
     "end_time": "2021-03-01T15:51:18.242043Z",
     "start_time": "2021-03-01T15:51:18.238966Z"
    }
   },
   "outputs": [],
   "source": [
    "# function to calculate the number of days since data scraped\n",
    "# some review dates are after the date scraped (by a few days), assume 0 days for these\n",
    "def calculate_days(date):\n",
    "    try:\n",
    "        return max((date_scraped - pd.to_datetime(date)).days, 0)\n",
    "    except:\n",
    "        return np.nan"
   ]
  },
  {
   "cell_type": "code",
   "execution_count": 40,
   "metadata": {
    "ExecuteTime": {
     "end_time": "2021-03-01T15:51:20.330002Z",
     "start_time": "2021-03-01T15:51:18.243829Z"
    }
   },
   "outputs": [],
   "source": [
    "df['first_review_days'] = df.first_review.map(calculate_days)\n",
    "df['last_review_days'] = df.last_review.map(calculate_days)"
   ]
  },
  {
   "cell_type": "markdown",
   "metadata": {},
   "source": [
    "#### `reviews_per_month`"
   ]
  },
  {
   "cell_type": "code",
   "execution_count": 41,
   "metadata": {
    "ExecuteTime": {
     "end_time": "2021-03-01T15:51:20.344373Z",
     "start_time": "2021-03-01T15:51:20.330976Z"
    }
   },
   "outputs": [],
   "source": [
    "# for reviews_per_month replace null values with 0\n",
    "df.reviews_per_month.fillna(0, inplace=True)"
   ]
  },
  {
   "cell_type": "markdown",
   "metadata": {},
   "source": [
    "#### `review_scores` (several features)\n",
    "Some missing values presumably reflecting listings which were reviewed but did not have ratings given. Two possible ways to treat this:\n",
    "- Treat the scores as categorical variables with a category for 'no ratings' (for this approach, bins will need to be created for the rating score)\n",
    "- Impute scores for the listings which do not have ratings (based on mean, median or mode scores)    \n",
    "\n",
    "Since only 87 listings have missing values, I will impute the scores for these listings using the median. NB the scores tend to be very positive (mode = median = 10 (out of 10) for all categories except the rating which is out of 100)."
   ]
  },
  {
   "cell_type": "code",
   "execution_count": 42,
   "metadata": {
    "ExecuteTime": {
     "end_time": "2021-03-01T15:51:20.364806Z",
     "start_time": "2021-03-01T15:51:20.345560Z"
    }
   },
   "outputs": [
    {
     "data": {
      "text/html": [
       "<div>\n",
       "<style scoped>\n",
       "    .dataframe tbody tr th:only-of-type {\n",
       "        vertical-align: middle;\n",
       "    }\n",
       "\n",
       "    .dataframe tbody tr th {\n",
       "        vertical-align: top;\n",
       "    }\n",
       "\n",
       "    .dataframe thead th {\n",
       "        text-align: right;\n",
       "    }\n",
       "</style>\n",
       "<table border=\"1\" class=\"dataframe\">\n",
       "  <thead>\n",
       "    <tr style=\"text-align: right;\">\n",
       "      <th></th>\n",
       "      <th>review_scores_rating</th>\n",
       "      <th>review_scores_accuracy</th>\n",
       "      <th>review_scores_cleanliness</th>\n",
       "      <th>review_scores_checkin</th>\n",
       "      <th>review_scores_communication</th>\n",
       "      <th>review_scores_location</th>\n",
       "      <th>review_scores_value</th>\n",
       "    </tr>\n",
       "  </thead>\n",
       "  <tbody>\n",
       "    <tr>\n",
       "      <th>count</th>\n",
       "      <td>20957.000000</td>\n",
       "      <td>20942.000000</td>\n",
       "      <td>20942.000000</td>\n",
       "      <td>20942.000000</td>\n",
       "      <td>20942.000000</td>\n",
       "      <td>20942.000000</td>\n",
       "      <td>20942.000000</td>\n",
       "    </tr>\n",
       "    <tr>\n",
       "      <th>mean</th>\n",
       "      <td>93.819249</td>\n",
       "      <td>9.606819</td>\n",
       "      <td>9.392799</td>\n",
       "      <td>9.705234</td>\n",
       "      <td>9.715882</td>\n",
       "      <td>9.653376</td>\n",
       "      <td>9.375322</td>\n",
       "    </tr>\n",
       "    <tr>\n",
       "      <th>std</th>\n",
       "      <td>8.905774</td>\n",
       "      <td>0.869679</td>\n",
       "      <td>0.991941</td>\n",
       "      <td>0.790125</td>\n",
       "      <td>0.798185</td>\n",
       "      <td>0.728212</td>\n",
       "      <td>0.927329</td>\n",
       "    </tr>\n",
       "    <tr>\n",
       "      <th>min</th>\n",
       "      <td>20.000000</td>\n",
       "      <td>2.000000</td>\n",
       "      <td>2.000000</td>\n",
       "      <td>2.000000</td>\n",
       "      <td>2.000000</td>\n",
       "      <td>2.000000</td>\n",
       "      <td>2.000000</td>\n",
       "    </tr>\n",
       "    <tr>\n",
       "      <th>25%</th>\n",
       "      <td>91.000000</td>\n",
       "      <td>9.000000</td>\n",
       "      <td>9.000000</td>\n",
       "      <td>10.000000</td>\n",
       "      <td>10.000000</td>\n",
       "      <td>9.000000</td>\n",
       "      <td>9.000000</td>\n",
       "    </tr>\n",
       "    <tr>\n",
       "      <th>50%</th>\n",
       "      <td>96.000000</td>\n",
       "      <td>10.000000</td>\n",
       "      <td>10.000000</td>\n",
       "      <td>10.000000</td>\n",
       "      <td>10.000000</td>\n",
       "      <td>10.000000</td>\n",
       "      <td>10.000000</td>\n",
       "    </tr>\n",
       "    <tr>\n",
       "      <th>75%</th>\n",
       "      <td>100.000000</td>\n",
       "      <td>10.000000</td>\n",
       "      <td>10.000000</td>\n",
       "      <td>10.000000</td>\n",
       "      <td>10.000000</td>\n",
       "      <td>10.000000</td>\n",
       "      <td>10.000000</td>\n",
       "    </tr>\n",
       "    <tr>\n",
       "      <th>max</th>\n",
       "      <td>100.000000</td>\n",
       "      <td>10.000000</td>\n",
       "      <td>10.000000</td>\n",
       "      <td>10.000000</td>\n",
       "      <td>10.000000</td>\n",
       "      <td>10.000000</td>\n",
       "      <td>10.000000</td>\n",
       "    </tr>\n",
       "  </tbody>\n",
       "</table>\n",
       "</div>"
      ],
      "text/plain": [
       "       review_scores_rating  review_scores_accuracy  \\\n",
       "count          20957.000000            20942.000000   \n",
       "mean              93.819249                9.606819   \n",
       "std                8.905774                0.869679   \n",
       "min               20.000000                2.000000   \n",
       "25%               91.000000                9.000000   \n",
       "50%               96.000000               10.000000   \n",
       "75%              100.000000               10.000000   \n",
       "max              100.000000               10.000000   \n",
       "\n",
       "       review_scores_cleanliness  review_scores_checkin  \\\n",
       "count               20942.000000           20942.000000   \n",
       "mean                    9.392799               9.705234   \n",
       "std                     0.991941               0.790125   \n",
       "min                     2.000000               2.000000   \n",
       "25%                     9.000000              10.000000   \n",
       "50%                    10.000000              10.000000   \n",
       "75%                    10.000000              10.000000   \n",
       "max                    10.000000              10.000000   \n",
       "\n",
       "       review_scores_communication  review_scores_location  \\\n",
       "count                 20942.000000            20942.000000   \n",
       "mean                      9.715882                9.653376   \n",
       "std                       0.798185                0.728212   \n",
       "min                       2.000000                2.000000   \n",
       "25%                      10.000000                9.000000   \n",
       "50%                      10.000000               10.000000   \n",
       "75%                      10.000000               10.000000   \n",
       "max                      10.000000               10.000000   \n",
       "\n",
       "       review_scores_value  \n",
       "count         20942.000000  \n",
       "mean              9.375322  \n",
       "std               0.927329  \n",
       "min               2.000000  \n",
       "25%               9.000000  \n",
       "50%              10.000000  \n",
       "75%              10.000000  \n",
       "max              10.000000  "
      ]
     },
     "execution_count": 42,
     "metadata": {},
     "output_type": "execute_result"
    }
   ],
   "source": [
    "review_scores_cols = ['review_scores_rating', 'review_scores_accuracy', 'review_scores_cleanliness',\n",
    "                     'review_scores_checkin', 'review_scores_communication', 'review_scores_location', \n",
    "                     'review_scores_value']\n",
    "df[review_scores_cols].describe()"
   ]
  },
  {
   "cell_type": "code",
   "execution_count": 43,
   "metadata": {
    "ExecuteTime": {
     "end_time": "2021-03-01T15:51:20.680092Z",
     "start_time": "2021-03-01T15:51:20.365801Z"
    }
   },
   "outputs": [
    {
     "data": {
      "image/png": "[encoded data removed]",
      "text/plain": [
       "<Figure size 1152x288 with 3 Axes>"
      ]
     },
     "metadata": {
      "image/png": {
       "height": 277,
       "width": 987
      }
     },
     "output_type": "display_data"
    }
   ],
   "source": [
    "fig, ax = plt.subplots(ncols=3, figsize=(16, 4))\n",
    "sns.histplot(df.review_scores_rating, ax=ax[0], bins=15)\n",
    "sns.histplot(df.review_scores_accuracy, ax=ax[1], bins=np.linspace(0, 10, 11))\n",
    "sns.histplot(df.review_scores_cleanliness, ax=ax[2], bins=np.linspace(0, 10, 11))\n",
    "plt.show()"
   ]
  },
  {
   "cell_type": "code",
   "execution_count": 44,
   "metadata": {
    "ExecuteTime": {
     "end_time": "2021-03-01T15:51:20.682746Z",
     "start_time": "2021-03-01T15:51:20.681061Z"
    }
   },
   "outputs": [],
   "source": [
    "# function to impute median\n",
    "def impute_median(col):\n",
    "    median = df[col].median()\n",
    "    df[col].fillna(median, inplace=True)"
   ]
  },
  {
   "cell_type": "code",
   "execution_count": 45,
   "metadata": {
    "ExecuteTime": {
     "end_time": "2021-03-01T15:51:20.687355Z",
     "start_time": "2021-03-01T15:51:20.683690Z"
    }
   },
   "outputs": [],
   "source": [
    "for col in review_scores_cols:\n",
    "    impute_median(col)"
   ]
  },
  {
   "cell_type": "markdown",
   "metadata": {},
   "source": [
    "### Further data cleaning\n",
    "After inspection of outliers in the data e.g. properties with a high number of bathrooms, some further cleaning is necessary - see details below."
   ]
  },
  {
   "cell_type": "code",
   "execution_count": 46,
   "metadata": {
    "ExecuteTime": {
     "end_time": "2021-03-01T15:51:20.691688Z",
     "start_time": "2021-03-01T15:51:20.688291Z"
    }
   },
   "outputs": [
    {
     "data": {
      "text/plain": [
       "name                  Superb Two Bedroom Apartment Near Regent's Park\n",
       "description         This modern two bedroom apartment offers the h...\n",
       "number_bathrooms                                                  2.0\n",
       "number_bedrooms                                                    10\n",
       "Name: 66877, dtype: object"
      ]
     },
     "execution_count": 46,
     "metadata": {},
     "output_type": "execute_result"
    }
   ],
   "source": [
    "# the description for this property states 2 bedrooms, not 10 - correct value\n",
    "df.loc[66877][['name', 'description', 'number_bathrooms', 'number_bedrooms']]"
   ]
  },
  {
   "cell_type": "code",
   "execution_count": 47,
   "metadata": {
    "ExecuteTime": {
     "end_time": "2021-03-01T15:51:20.694844Z",
     "start_time": "2021-03-01T15:51:20.692670Z"
    }
   },
   "outputs": [],
   "source": [
    "df.loc[66877, 'number_bedrooms'] = 2"
   ]
  },
  {
   "cell_type": "code",
   "execution_count": 48,
   "metadata": {
    "ExecuteTime": {
     "end_time": "2021-03-01T15:51:20.699359Z",
     "start_time": "2021-03-01T15:51:20.695779Z"
    }
   },
   "outputs": [
    {
     "data": {
      "text/plain": [
       "name                                               Putney modern flat\n",
       "description         Spacious cozy newly refurbished modern 1-bedro...\n",
       "number_bathrooms                                                  1.5\n",
       "number_bedrooms                                                     8\n",
       "Name: 10165, dtype: object"
      ]
     },
     "execution_count": 48,
     "metadata": {},
     "output_type": "execute_result"
    }
   ],
   "source": [
    "# the description for this property states 1 bedroom, not 8 - correct value\n",
    "df.loc[10165][['name', 'description', 'number_bathrooms', 'number_bedrooms']]"
   ]
  },
  {
   "cell_type": "code",
   "execution_count": 49,
   "metadata": {
    "ExecuteTime": {
     "end_time": "2021-03-01T15:51:20.702593Z",
     "start_time": "2021-03-01T15:51:20.700263Z"
    }
   },
   "outputs": [],
   "source": [
    "df.loc[10165, 'number_bedrooms'] = 1"
   ]
  },
  {
   "cell_type": "code",
   "execution_count": 50,
   "metadata": {
    "ExecuteTime": {
     "end_time": "2021-03-01T15:51:20.707046Z",
     "start_time": "2021-03-01T15:51:20.703542Z"
    }
   },
   "outputs": [
    {
     "data": {
      "text/plain": [
       "name                Stunning One Bedroom Apartment In Prime Maryle...\n",
       "description         This stunning One Bedroom Apartment features a...\n",
       "number_bathrooms                                                  1.0\n",
       "number_bedrooms                                                     8\n",
       "Name: 63608, dtype: object"
      ]
     },
     "execution_count": 50,
     "metadata": {},
     "output_type": "execute_result"
    }
   ],
   "source": [
    "# the description for this property states 1 bedroom, not 8 - correct value\n",
    "df.loc[63608][['name', 'description', 'number_bathrooms', 'number_bedrooms']]"
   ]
  },
  {
   "cell_type": "code",
   "execution_count": 51,
   "metadata": {
    "ExecuteTime": {
     "end_time": "2021-03-01T15:51:20.710843Z",
     "start_time": "2021-03-01T15:51:20.708113Z"
    }
   },
   "outputs": [],
   "source": [
    "df.loc[63608, 'number_bedrooms'] = 1"
   ]
  },
  {
   "cell_type": "markdown",
   "metadata": {},
   "source": [
    "The host 'Palmers Lodge' has multiple listings for rooms in a hostel. Information entered very inconsistently e.g. 10 bathrooms for a dorm room. Remove inactive listings (availability_90 = 0) and correct obvious mistakes in the remaining ones."
   ]
  },
  {
   "cell_type": "code",
   "execution_count": 52,
   "metadata": {
    "ExecuteTime": {
     "end_time": "2021-03-01T15:51:20.738971Z",
     "start_time": "2021-03-01T15:51:20.713377Z"
    }
   },
   "outputs": [],
   "source": [
    "indices = df[(df.host_name == 'Palmers Lodge') & (df.availability_90 == 0)].index\n",
    "df.drop(index=indices, inplace=True)"
   ]
  },
  {
   "cell_type": "code",
   "execution_count": 53,
   "metadata": {
    "ExecuteTime": {
     "end_time": "2021-03-01T15:51:20.752281Z",
     "start_time": "2021-03-01T15:51:20.740030Z"
    }
   },
   "outputs": [],
   "source": [
    "for i in df[df.host_name == 'Palmers Lodge'].index:\n",
    "    df.loc[i, 'number_bathrooms'] = 1.0\n",
    "    df.loc[i, 'private_bathroom'] = 0"
   ]
  },
  {
   "cell_type": "markdown",
   "metadata": {},
   "source": [
    "There are some hosts which have multiple listings for rooms in a hostel / beds in a dorm room. Information entered very inconsistently e.g. 10 bathrooms for a dorm room. Correct obvious mistakes in the listings."
   ]
  },
  {
   "cell_type": "code",
   "execution_count": 54,
   "metadata": {
    "ExecuteTime": {
     "end_time": "2021-03-01T15:51:20.766350Z",
     "start_time": "2021-03-01T15:51:20.753595Z"
    }
   },
   "outputs": [],
   "source": [
    "mask = (df.host_name == 'Safestay') & (df.room_type == 'Shared room')\n",
    "for i in df[mask].index:\n",
    "    df.loc[i, 'accommodates'] = 1"
   ]
  },
  {
   "cell_type": "code",
   "execution_count": 55,
   "metadata": {
    "ExecuteTime": {
     "end_time": "2021-03-01T15:51:20.773309Z",
     "start_time": "2021-03-01T15:51:20.767370Z"
    }
   },
   "outputs": [],
   "source": [
    "mask = (df.number_bathrooms >= 7) & (df.host_name == 'Gareth')\n",
    "for i in df[mask].index:\n",
    "    df.loc[i, 'number_bathrooms'] = 1.0\n",
    "    df.loc[i, 'accommodates'] = 1"
   ]
  },
  {
   "cell_type": "code",
   "execution_count": 56,
   "metadata": {
    "ExecuteTime": {
     "end_time": "2021-03-01T15:51:20.785268Z",
     "start_time": "2021-03-01T15:51:20.774210Z"
    }
   },
   "outputs": [],
   "source": [
    "mask = (df.room_type == 'Shared room') & (df.accommodates > 2) & (df.host_name == 'Richard')\n",
    "for i in df[mask].index:\n",
    "    df.loc[i, 'number_bathrooms'] = 1.0\n",
    "    df.loc[i, 'accommodates'] = 1"
   ]
  },
  {
   "cell_type": "code",
   "execution_count": 57,
   "metadata": {
    "ExecuteTime": {
     "end_time": "2021-03-01T15:51:20.795236Z",
     "start_time": "2021-03-01T15:51:20.786154Z"
    }
   },
   "outputs": [],
   "source": [
    "mask = (df.room_type == 'Shared room') & (df.accommodates > 2) & (df.host_name == 'Marian')\n",
    "for i in df[mask].index:\n",
    "    df.loc[i, 'number_bathrooms'] = 1.0\n",
    "    df.loc[i, 'accommodates'] = 1"
   ]
  },
  {
   "cell_type": "code",
   "execution_count": 58,
   "metadata": {
    "ExecuteTime": {
     "end_time": "2021-03-01T15:51:20.814923Z",
     "start_time": "2021-03-01T15:51:20.797061Z"
    }
   },
   "outputs": [],
   "source": [
    "mask = (df.room_type == 'Shared room') & (df.accommodates > 2) & (df.host_name.str.contains('Astor'))\n",
    "for i in df[mask].index:\n",
    "    df.loc[i, 'accommodates'] = 1"
   ]
  },
  {
   "cell_type": "code",
   "execution_count": 59,
   "metadata": {
    "ExecuteTime": {
     "end_time": "2021-03-01T15:51:20.833920Z",
     "start_time": "2021-03-01T15:51:20.815940Z"
    }
   },
   "outputs": [],
   "source": [
    "mask = (df.room_type == 'Shared room') & (df.accommodates > 2) & (df.name.str.contains('PubLove'))\n",
    "for i in df[mask].index:\n",
    "    df.loc[i, 'accommodates'] = 1"
   ]
  },
  {
   "cell_type": "code",
   "execution_count": 60,
   "metadata": {
    "ExecuteTime": {
     "end_time": "2021-03-01T15:51:20.851504Z",
     "start_time": "2021-03-01T15:51:20.834868Z"
    }
   },
   "outputs": [],
   "source": [
    "# listings for multiple properties in one - drop as price not quoted consistently\n",
    "# first one is an office space, not for overnight stays\n",
    "# drop host City Living - agency which seems to have set its prices very high to prevent bookings i.e. not active\n",
    "indices_to_drop = [67725, 15044, 60728, 58369, 11823, 65312, 38052, 30829, 56143, 56744, 50792, 14293, 43388, 33634, 70785]\n",
    "df.drop(index=indices_to_drop, inplace=True)"
   ]
  },
  {
   "cell_type": "code",
   "execution_count": 61,
   "metadata": {
    "ExecuteTime": {
     "end_time": "2021-03-01T15:51:20.873512Z",
     "start_time": "2021-03-01T15:51:20.852490Z"
    }
   },
   "outputs": [],
   "source": [
    "# host STK Homes seems to have very similar listings with very different prices - drop this host as data is unreliable\n",
    "df = df[df.host_name != 'STK Homes']"
   ]
  },
  {
   "cell_type": "markdown",
   "metadata": {},
   "source": [
    "### Save clean data to CSV for EDA\n",
    "Drop all remaining columns redundant for modelling e.g. ones which contain URLs."
   ]
  },
  {
   "cell_type": "code",
   "execution_count": 62,
   "metadata": {
    "ExecuteTime": {
     "end_time": "2021-03-01T15:51:36.772528Z",
     "start_time": "2021-03-01T15:51:36.768161Z"
    }
   },
   "outputs": [
    {
     "data": {
      "text/plain": [
       "(20994, 5)"
      ]
     },
     "execution_count": 62,
     "metadata": {},
     "output_type": "execute_result"
    }
   ],
   "source": [
    "# create separate dataframe with longitude and latitude coordinates\n",
    "df_geo = df[['id', 'price', 'neighbourhood_cleansed', 'longitude', 'latitude']].copy()\n",
    "df_geo.shape"
   ]
  },
  {
   "cell_type": "code",
   "execution_count": 63,
   "metadata": {
    "ExecuteTime": {
     "end_time": "2021-03-01T15:51:58.564768Z",
     "start_time": "2021-03-01T15:51:58.434595Z"
    }
   },
   "outputs": [],
   "source": [
    "# write geographical data to CSV\n",
    "df_geo.to_csv('../GA/capstone-data-airbnb/dec20-data/active_listings_geo.csv')"
   ]
  },
  {
   "cell_type": "code",
   "execution_count": 64,
   "metadata": {
    "ExecuteTime": {
     "end_time": "2021-03-01T15:52:03.572834Z",
     "start_time": "2021-03-01T15:52:03.506066Z"
    }
   },
   "outputs": [],
   "source": [
    "# drop redundant columns\n",
    "df.drop(columns=['listing_url', 'scrape_id', 'last_scraped', 'picture_url', \n",
    "                 'host_id', 'host_url', 'host_location', 'host_about', 'host_thumbnail_url', \n",
    "                 'host_picture_url', 'host_neighbourhood', 'host_verifications', 'host_has_profile_pic', \n",
    "                 'neighbourhood', 'calendar_last_scraped', 'calculated_host_listings_count_entire_homes', \n",
    "                 'calculated_host_listings_count_private_rooms', 'calculated_host_listings_count_shared_rooms', \n",
    "                 'minimum_nights', 'maximum_nights', 'minimum_minimum_nights', 'maximum_minimum_nights', \n",
    "                 'minimum_maximum_nights', 'maximum_maximum_nights', 'longitude', 'latitude',\n",
    "                 'bathrooms_text', 'beds', 'bedrooms', 'host_total_listings_count', \n",
    "                 'calculated_host_listings_count', 'has_availability',\n",
    "                 'host_since', 'first_review', 'last_review'], inplace=True)"
   ]
  },
  {
   "cell_type": "code",
   "execution_count": 65,
   "metadata": {
    "ExecuteTime": {
     "end_time": "2021-03-01T15:52:06.327811Z",
     "start_time": "2021-03-01T15:52:05.566976Z"
    }
   },
   "outputs": [
    {
     "data": {
      "text/plain": [
       "(20994, 42)"
      ]
     },
     "execution_count": 65,
     "metadata": {},
     "output_type": "execute_result"
    }
   ],
   "source": [
    "# write clean data to CSV\n",
    "df.to_csv('../GA/capstone-data-airbnb/dec20-data/active_listings_clean.csv')\n",
    "df.shape"
   ]
  }
 ],
 "metadata": {
  "kernelspec": {
   "display_name": "Python 3",
   "language": "python",
   "name": "python3"
  },
  "language_info": {
   "codemirror_mode": {
    "name": "ipython",
    "version": 3
   },
   "file_extension": ".py",
   "mimetype": "text/x-python",
   "name": "python",
   "nbconvert_exporter": "python",
   "pygments_lexer": "ipython3",
   "version": "3.8.2"
  },
  "toc": {
   "base_numbering": 1,
   "nav_menu": {},
   "number_sections": false,
   "sideBar": true,
   "skip_h1_title": true,
   "title_cell": "Table of Contents",
   "title_sidebar": "Contents",
   "toc_cell": false,
   "toc_position": {},
   "toc_section_display": true,
   "toc_window_display": false
  },
  "varInspector": {
   "cols": {
    "lenName": 16,
    "lenType": 16,
    "lenVar": 40
   },
   "kernels_config": {
    "python": {
     "delete_cmd_postfix": "",
     "delete_cmd_prefix": "del ",
     "library": "var_list.py",
     "varRefreshCmd": "print(var_dic_list())"
    },
    "r": {
     "delete_cmd_postfix": ") ",
     "delete_cmd_prefix": "rm(",
     "library": "var_list.r",
     "varRefreshCmd": "cat(var_dic_list()) "
    }
   },
   "types_to_exclude": [
    "module",
    "function",
    "builtin_function_or_method",
    "instance",
    "_Feature"
   ],
   "window_display": false
  }
 },
 "nbformat": 4,
 "nbformat_minor": 4
}
