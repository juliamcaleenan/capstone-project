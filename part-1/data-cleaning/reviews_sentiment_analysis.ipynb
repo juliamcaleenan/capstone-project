{
 "cells": [
  {
   "cell_type": "markdown",
   "metadata": {},
   "source": [
    "# Capstone Project \n",
    "## Part 1 - Predicting Airbnb rental prices"
   ]
  },
  {
   "cell_type": "markdown",
   "metadata": {},
   "source": [
    "## Sentiment Analysis - Dec 20 reviews"
   ]
  },
  {
   "cell_type": "code",
   "execution_count": 1,
   "metadata": {
    "ExecuteTime": {
     "end_time": "2021-03-02T15:57:54.528384Z",
     "start_time": "2021-03-02T15:57:53.592098Z"
    }
   },
   "outputs": [],
   "source": [
    "import pandas as pd\n",
    "import numpy as np\n",
    "import psycopg2\n",
    "import seaborn as sns\n",
    "import matplotlib.pyplot as plt\n",
    "from scipy import stats\n",
    "\n",
    "%config InlineBackend.figure_format = 'retina'\n",
    "%matplotlib inline\n",
    "\n",
    "sns.set_theme(context='notebook', style='darkgrid', palette='Set2', font_scale=1.5)"
   ]
  },
  {
   "cell_type": "markdown",
   "metadata": {},
   "source": [
    "### Load data"
   ]
  },
  {
   "cell_type": "code",
   "execution_count": 2,
   "metadata": {
    "ExecuteTime": {
     "end_time": "2021-03-02T15:58:10.426899Z",
     "start_time": "2021-03-02T15:58:05.133387Z"
    }
   },
   "outputs": [
    {
     "data": {
      "text/plain": [
       "(1178933, 6)"
      ]
     },
     "execution_count": 2,
     "metadata": {},
     "output_type": "execute_result"
    }
   ],
   "source": [
    "# connect to database\n",
    "db_user = 'postgres'\n",
    "db_password = ''\n",
    "db_host = 'localhost'\n",
    "db_port = 5432\n",
    "database = 'airbnb'\n",
    "\n",
    "conn_str = f'postgresql://{db_user}:{db_password}@{db_host}:{db_port}/{database}'\n",
    "conn = psycopg2.connect(conn_str)\n",
    "\n",
    "# load data for Dec 20 reviews from database\n",
    "df = pd.read_sql('SELECT * FROM dec20_reviews', conn)\n",
    "df.shape"
   ]
  },
  {
   "cell_type": "markdown",
   "metadata": {},
   "source": [
    "### Clean data\n",
    "- Drop empty reviews\n",
    "- Drop automated reviews (upon cancellation)\n",
    "- Drop non-English reviews as the sentiment analysis will not work on them"
   ]
  },
  {
   "cell_type": "code",
   "execution_count": 7,
   "metadata": {
    "ExecuteTime": {
     "end_time": "2021-02-04T17:46:56.784052Z",
     "start_time": "2021-02-04T17:46:56.498798Z"
    }
   },
   "outputs": [],
   "source": [
    "# drop null comments\n",
    "df.dropna(inplace=True)"
   ]
  },
  {
   "cell_type": "code",
   "execution_count": 8,
   "metadata": {
    "ExecuteTime": {
     "end_time": "2021-02-04T17:46:58.274543Z",
     "start_time": "2021-02-04T17:46:57.490674Z"
    }
   },
   "outputs": [],
   "source": [
    "# drop reviews containing 'This is an automated posting'\n",
    "automated = df[df.comments.str.contains('This is an automated posting')].index\n",
    "df.drop(index=automated, inplace=True)"
   ]
  },
  {
   "cell_type": "code",
   "execution_count": 9,
   "metadata": {
    "ExecuteTime": {
     "end_time": "2021-02-04T17:46:58.648000Z",
     "start_time": "2021-02-04T17:46:58.639236Z"
    }
   },
   "outputs": [
    {
     "data": {
      "text/plain": [
       "'Nossa estadia em Londres foi fantástica, e ficamos muito bem acomodados em Brixton! Adriano foi um anfitrião muito acolhedor e prestativo. Seu apartamento acomoda muito bem uma família, com supermercado próximo e, principalmente, pelo acesso fácil ao metrô e ônibus. Quando retornarmos a Londres, com certeza, ficaremos neste apartamento novamente.'"
      ]
     },
     "execution_count": 9,
     "metadata": {},
     "output_type": "execute_result"
    }
   ],
   "source": [
    "# example of non-English review\n",
    "df.iloc[79,5]"
   ]
  },
  {
   "cell_type": "code",
   "execution_count": 10,
   "metadata": {
    "ExecuteTime": {
     "end_time": "2021-02-04T17:47:01.172553Z",
     "start_time": "2021-02-04T17:47:00.889143Z"
    }
   },
   "outputs": [
    {
     "name": "stdout",
     "output_type": "stream",
     "text": [
      "pt\n",
      "en\n"
     ]
    }
   ],
   "source": [
    "# import language detection module\n",
    "from langdetect import detect\n",
    "print(detect(df.iloc[79,5]))\n",
    "print(detect(df.iloc[0,5]))"
   ]
  },
  {
   "cell_type": "code",
   "execution_count": 11,
   "metadata": {
    "ExecuteTime": {
     "end_time": "2021-02-04T17:47:02.029078Z",
     "start_time": "2021-02-04T17:47:02.025656Z"
    }
   },
   "outputs": [],
   "source": [
    "def detect_language(review):\n",
    "    try:\n",
    "        return detect(review)\n",
    "    except:\n",
    "        return np.nan"
   ]
  },
  {
   "cell_type": "code",
   "execution_count": 15,
   "metadata": {
    "ExecuteTime": {
     "end_time": "2021-02-04T19:17:19.400574Z",
     "start_time": "2021-02-04T17:47:32.228305Z"
    }
   },
   "outputs": [],
   "source": [
    "df['language'] = df.comments.map(detect_language)"
   ]
  },
  {
   "cell_type": "code",
   "execution_count": 24,
   "metadata": {
    "ExecuteTime": {
     "end_time": "2021-02-04T19:23:49.023086Z",
     "start_time": "2021-02-04T19:23:48.924343Z"
    }
   },
   "outputs": [
    {
     "data": {
      "text/plain": [
       "151488"
      ]
     },
     "execution_count": 24,
     "metadata": {},
     "output_type": "execute_result"
    }
   ],
   "source": [
    "(df['language'] != 'en').sum()"
   ]
  },
  {
   "cell_type": "code",
   "execution_count": 29,
   "metadata": {
    "ExecuteTime": {
     "end_time": "2021-02-04T19:27:37.953516Z",
     "start_time": "2021-02-04T19:27:37.747702Z"
    }
   },
   "outputs": [],
   "source": [
    "df = df[df.language == 'en']"
   ]
  },
  {
   "cell_type": "code",
   "execution_count": 30,
   "metadata": {
    "ExecuteTime": {
     "end_time": "2021-02-04T19:27:39.386053Z",
     "start_time": "2021-02-04T19:27:39.381693Z"
    }
   },
   "outputs": [
    {
     "data": {
      "text/plain": [
       "(1006574, 7)"
      ]
     },
     "execution_count": 30,
     "metadata": {},
     "output_type": "execute_result"
    }
   ],
   "source": [
    "df.shape"
   ]
  },
  {
   "cell_type": "markdown",
   "metadata": {},
   "source": [
    "### Sentiment Analysis"
   ]
  },
  {
   "cell_type": "code",
   "execution_count": 31,
   "metadata": {
    "ExecuteTime": {
     "end_time": "2021-02-04T19:27:43.445305Z",
     "start_time": "2021-02-04T19:27:42.635096Z"
    }
   },
   "outputs": [],
   "source": [
    "from nltk.sentiment.vader import SentimentIntensityAnalyzer"
   ]
  },
  {
   "cell_type": "code",
   "execution_count": 32,
   "metadata": {
    "ExecuteTime": {
     "end_time": "2021-02-04T19:27:44.662117Z",
     "start_time": "2021-02-04T19:27:44.462776Z"
    }
   },
   "outputs": [
    {
     "name": "stderr",
     "output_type": "stream",
     "text": [
      "[nltk_data] Downloading package vader_lexicon to\n",
      "[nltk_data]     /Users/julia/nltk_data...\n",
      "[nltk_data]   Package vader_lexicon is already up-to-date!\n"
     ]
    },
    {
     "data": {
      "text/plain": [
       "True"
      ]
     },
     "execution_count": 32,
     "metadata": {},
     "output_type": "execute_result"
    }
   ],
   "source": [
    "import nltk\n",
    "nltk.download('vader_lexicon')"
   ]
  },
  {
   "cell_type": "code",
   "execution_count": 33,
   "metadata": {
    "ExecuteTime": {
     "end_time": "2021-02-04T19:27:45.600376Z",
     "start_time": "2021-02-04T19:27:45.571949Z"
    }
   },
   "outputs": [],
   "source": [
    "sid = SentimentIntensityAnalyzer()"
   ]
  },
  {
   "cell_type": "code",
   "execution_count": 34,
   "metadata": {
    "ExecuteTime": {
     "end_time": "2021-02-04T19:27:52.400120Z",
     "start_time": "2021-02-04T19:27:52.375765Z"
    }
   },
   "outputs": [
    {
     "name": "stdout",
     "output_type": "stream",
     "text": [
      "The flat was bright, comfortable and clean and Adriano was pleasant and gracious about accommodating us at the last minute. The Brixton tube was a very short walk away and there were plenty of buses. There are lots of fast food restaurants, banks, and shops along the main street.\n",
      "compound: 0.9413, neg: 0.0, neu: 0.731, pos: 0.269, \n",
      "---------------------------------------------------\n",
      "We stayed with Adriano and Valerio for a week when first moving to London. The apartment is great and very clean compared to a lot of places we've seen in London. Situated very close to Brixton tube and good bus links to central London. Thanks guys!\n",
      "compound: 0.9214, neg: 0.0, neu: 0.752, pos: 0.248, \n",
      "---------------------------------------------------\n",
      "Adriano was a fantastic host. We felt very at home while staying there. Our first morning we woke up and saw the dining table set for breakfast which was much appreciated. His flat is conveniently located a block from the tube station, with a number of shops and restaurants in the area as well. His place was very clean and tidy, overall just a fantastic experience. \n",
      "compound: 0.9184, neg: 0.039, neu: 0.735, pos: 0.226, \n",
      "---------------------------------------------------\n",
      "We had a most wonderful stay with Adriano and Valerio.  They are both interesting and interested hosts who serve a delicious cappuccino with breakfast in the morninig.  Their place is small but clean and comfy.  Central London is a short bus or tube ride ... very convenient.  We look forward to returning to London and staying with them again.  \n",
      "compound: 0.8778, neg: 0.0, neu: 0.808, pos: 0.192, \n",
      "---------------------------------------------------\n",
      "  I'm not sure which of us misunderstood the situation, but I was not aware that Adriano and his cousin would be in residence...I thought I was renting the apartment to myself. Nonetheless, he was a very gracious host. The neighborhood is not a good one, and anyone renting here should be aware of that. I would not walk in that area at night under any circumstances. The apartment is spotlessly clean though. \n",
      "compound: 0.6808, neg: 0.081, neu: 0.803, pos: 0.115, \n",
      "---------------------------------------------------\n"
     ]
    }
   ],
   "source": [
    "# check sentiment analysis scores on a few individual reviews\n",
    "for i in range(5):\n",
    "    print(df.comments[i])\n",
    "    ss = sid.polarity_scores(df.comments[i])\n",
    "    for k in sorted(ss):\n",
    "        print('{0}: {1}, '.format(k, ss[k]), end='')\n",
    "    print('\\n---------------------------------------------------')"
   ]
  },
  {
   "cell_type": "code",
   "execution_count": 35,
   "metadata": {
    "ExecuteTime": {
     "end_time": "2021-02-04T19:34:21.350730Z",
     "start_time": "2021-02-04T19:27:56.994136Z"
    }
   },
   "outputs": [],
   "source": [
    "df['sa_compound'] = df.comments.map(lambda x: sid.polarity_scores(x)['compound'])"
   ]
  },
  {
   "cell_type": "code",
   "execution_count": 37,
   "metadata": {
    "ExecuteTime": {
     "end_time": "2021-02-04T19:42:25.487501Z",
     "start_time": "2021-02-04T19:34:53.336724Z"
    }
   },
   "outputs": [],
   "source": [
    "df['sa_neg'] = df.comments.map(lambda x: sid.polarity_scores(x)['neg'])"
   ]
  },
  {
   "cell_type": "code",
   "execution_count": 39,
   "metadata": {
    "ExecuteTime": {
     "end_time": "2021-02-04T19:51:09.315647Z",
     "start_time": "2021-02-04T19:44:26.529543Z"
    }
   },
   "outputs": [],
   "source": [
    "df['sa_neu'] = df.comments.map(lambda x: sid.polarity_scores(x)['neu'])"
   ]
  },
  {
   "cell_type": "code",
   "execution_count": 41,
   "metadata": {
    "ExecuteTime": {
     "end_time": "2021-02-04T20:53:59.597090Z",
     "start_time": "2021-02-04T20:47:33.696015Z"
    }
   },
   "outputs": [],
   "source": [
    "df['sa_pos'] = df.comments.map(lambda x: sid.polarity_scores(x)['pos'])"
   ]
  },
  {
   "cell_type": "code",
   "execution_count": 105,
   "metadata": {
    "ExecuteTime": {
     "end_time": "2021-02-05T17:29:30.599919Z",
     "start_time": "2021-02-05T17:29:23.069069Z"
    }
   },
   "outputs": [
    {
     "name": "stdout",
     "output_type": "stream",
     "text": [
      "(51836, 9)\n"
     ]
    },
    {
     "data": {
      "text/html": [
       "<div>\n",
       "<style scoped>\n",
       "    .dataframe tbody tr th:only-of-type {\n",
       "        vertical-align: middle;\n",
       "    }\n",
       "\n",
       "    .dataframe tbody tr th {\n",
       "        vertical-align: top;\n",
       "    }\n",
       "\n",
       "    .dataframe thead th {\n",
       "        text-align: right;\n",
       "    }\n",
       "</style>\n",
       "<table border=\"1\" class=\"dataframe\">\n",
       "  <thead>\n",
       "    <tr style=\"text-align: right;\">\n",
       "      <th></th>\n",
       "      <th>listing_id</th>\n",
       "      <th>mean</th>\n",
       "      <th>median</th>\n",
       "      <th>std</th>\n",
       "      <th>skew</th>\n",
       "      <th>kurtosis</th>\n",
       "      <th>count</th>\n",
       "      <th>max</th>\n",
       "      <th>min</th>\n",
       "    </tr>\n",
       "  </thead>\n",
       "  <tbody>\n",
       "    <tr>\n",
       "      <th>0</th>\n",
       "      <td>11551</td>\n",
       "      <td>0.901849</td>\n",
       "      <td>0.95300</td>\n",
       "      <td>0.169497</td>\n",
       "      <td>-3.902532</td>\n",
       "      <td>15.830288</td>\n",
       "      <td>171</td>\n",
       "      <td>0.9961</td>\n",
       "      <td>0.0000</td>\n",
       "    </tr>\n",
       "    <tr>\n",
       "      <th>1</th>\n",
       "      <td>13913</td>\n",
       "      <td>0.878995</td>\n",
       "      <td>0.94770</td>\n",
       "      <td>0.215670</td>\n",
       "      <td>-3.915228</td>\n",
       "      <td>12.311691</td>\n",
       "      <td>20</td>\n",
       "      <td>0.9954</td>\n",
       "      <td>0.0000</td>\n",
       "    </tr>\n",
       "    <tr>\n",
       "      <th>2</th>\n",
       "      <td>15400</td>\n",
       "      <td>0.904411</td>\n",
       "      <td>0.95420</td>\n",
       "      <td>0.125688</td>\n",
       "      <td>-2.439843</td>\n",
       "      <td>5.861301</td>\n",
       "      <td>83</td>\n",
       "      <td>0.9974</td>\n",
       "      <td>0.3400</td>\n",
       "    </tr>\n",
       "    <tr>\n",
       "      <th>3</th>\n",
       "      <td>17402</td>\n",
       "      <td>0.896900</td>\n",
       "      <td>0.92410</td>\n",
       "      <td>0.095037</td>\n",
       "      <td>-1.342989</td>\n",
       "      <td>1.080238</td>\n",
       "      <td>33</td>\n",
       "      <td>0.9938</td>\n",
       "      <td>0.6249</td>\n",
       "    </tr>\n",
       "    <tr>\n",
       "      <th>4</th>\n",
       "      <td>25123</td>\n",
       "      <td>0.945812</td>\n",
       "      <td>0.97225</td>\n",
       "      <td>0.084463</td>\n",
       "      <td>-4.271175</td>\n",
       "      <td>19.666980</td>\n",
       "      <td>108</td>\n",
       "      <td>0.9958</td>\n",
       "      <td>0.4199</td>\n",
       "    </tr>\n",
       "  </tbody>\n",
       "</table>\n",
       "</div>"
      ],
      "text/plain": [
       "   listing_id      mean   median       std      skew   kurtosis  count  \\\n",
       "0       11551  0.901849  0.95300  0.169497 -3.902532  15.830288    171   \n",
       "1       13913  0.878995  0.94770  0.215670 -3.915228  12.311691     20   \n",
       "2       15400  0.904411  0.95420  0.125688 -2.439843   5.861301     83   \n",
       "3       17402  0.896900  0.92410  0.095037 -1.342989   1.080238     33   \n",
       "4       25123  0.945812  0.97225  0.084463 -4.271175  19.666980    108   \n",
       "\n",
       "      max     min  \n",
       "0  0.9961  0.0000  \n",
       "1  0.9954  0.0000  \n",
       "2  0.9974  0.3400  \n",
       "3  0.9938  0.6249  \n",
       "4  0.9958  0.4199  "
      ]
     },
     "execution_count": 105,
     "metadata": {},
     "output_type": "execute_result"
    }
   ],
   "source": [
    "df_agg = df.groupby('listing_id').sa_compound.agg(['mean', 'median', 'std', 'skew', stats.kurtosis, 'count', 'max', 'min']).reset_index()\n",
    "print(df_agg.shape)\n",
    "df_agg.head()"
   ]
  },
  {
   "cell_type": "code",
   "execution_count": 89,
   "metadata": {
    "ExecuteTime": {
     "end_time": "2021-02-05T14:54:39.971807Z",
     "start_time": "2021-02-05T14:54:39.470271Z"
    }
   },
   "outputs": [],
   "source": [
    "# write aggregated data to CSV\n",
    "df_agg.to_csv('../capstone-data-airbnb/dec20-data/reviews_sentiment_analysis_aggregated.csv')"
   ]
  },
  {
   "cell_type": "code",
   "execution_count": 94,
   "metadata": {
    "ExecuteTime": {
     "end_time": "2021-02-05T15:01:38.973993Z",
     "start_time": "2021-02-05T15:01:28.171676Z"
    }
   },
   "outputs": [],
   "source": [
    "# write clean data to CSV\n",
    "df.to_csv('../capstone-data-airbnb/dec20-data/reviews_sentiment_analysis.csv')"
   ]
  }
 ],
 "metadata": {
  "kernelspec": {
   "display_name": "Python 3",
   "language": "python",
   "name": "python3"
  },
  "language_info": {
   "codemirror_mode": {
    "name": "ipython",
    "version": 3
   },
   "file_extension": ".py",
   "mimetype": "text/x-python",
   "name": "python",
   "nbconvert_exporter": "python",
   "pygments_lexer": "ipython3",
   "version": "3.8.2"
  },
  "toc": {
   "base_numbering": 1,
   "nav_menu": {},
   "number_sections": false,
   "sideBar": true,
   "skip_h1_title": true,
   "title_cell": "Table of Contents",
   "title_sidebar": "Contents",
   "toc_cell": false,
   "toc_position": {},
   "toc_section_display": true,
   "toc_window_display": false
  },
  "varInspector": {
   "cols": {
    "lenName": 16,
    "lenType": 16,
    "lenVar": 40
   },
   "kernels_config": {
    "python": {
     "delete_cmd_postfix": "",
     "delete_cmd_prefix": "del ",
     "library": "var_list.py",
     "varRefreshCmd": "print(var_dic_list())"
    },
    "r": {
     "delete_cmd_postfix": ") ",
     "delete_cmd_prefix": "rm(",
     "library": "var_list.r",
     "varRefreshCmd": "cat(var_dic_list()) "
    }
   },
   "types_to_exclude": [
    "module",
    "function",
    "builtin_function_or_method",
    "instance",
    "_Feature"
   ],
   "window_display": false
  }
 },
 "nbformat": 4,
 "nbformat_minor": 4
}
